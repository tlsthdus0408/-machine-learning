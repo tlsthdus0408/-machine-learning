{
 "cells": [
  {
   "cell_type": "code",
   "execution_count": 1,
   "id": "f601686f",
   "metadata": {},
   "outputs": [
    {
     "data": {
      "text/html": [
       "<style>div.container { width:100% !important; }</style>"
      ],
      "text/plain": [
       "<IPython.core.display.HTML object>"
      ]
     },
     "metadata": {},
     "output_type": "display_data"
    }
   ],
   "source": [
    "from IPython.display import display, HTML\n",
    "display(HTML(\"<style>div.container { width:100% !important; }</style>\"))"
   ]
  },
  {
   "cell_type": "markdown",
   "id": "9bf81857",
   "metadata": {},
   "source": [
    "# 데이터 준비하기 "
   ]
  },
  {
   "cell_type": "code",
   "execution_count": 4,
   "id": "ea95ad7f",
   "metadata": {},
   "outputs": [],
   "source": [
    "import pandas as pd #모듈불러오기"
   ]
  },
  {
   "cell_type": "code",
   "execution_count": 14,
   "id": "421eacb5",
   "metadata": {},
   "outputs": [
    {
     "name": "stdout",
     "output_type": "stream",
     "text": [
      "      age  sex     bmi  children  smoker      charges\n",
      "0      19    0  27.900         0       1  16884.92400\n",
      "1      18    1  33.770         1       0   1725.55230\n",
      "2      28    1  33.000         3       0   4449.46200\n",
      "3      33    1  22.705         0       0  21984.47061\n",
      "4      32    1  28.880         0       0   3866.85520\n",
      "...   ...  ...     ...       ...     ...          ...\n",
      "1333   50    1  30.970         3       0  10600.54830\n",
      "1334   18    0  31.920         0       0   2205.98080\n",
      "1335   18    0  36.850         0       0   1629.83350\n",
      "1336   21    0  25.800         0       0   2007.94500\n",
      "1337   61    0  29.070         0       1  29141.36030\n",
      "\n",
      "[1338 rows x 6 columns]\n"
     ]
    }
   ],
   "source": [
    "df=pd.read_csv(\"insurance.csv\") #파일불러오기\n",
    "print(df) #어레이형태로"
   ]
  },
  {
   "cell_type": "code",
   "execution_count": 15,
   "id": "6f8ef664",
   "metadata": {},
   "outputs": [
    {
     "name": "stdout",
     "output_type": "stream",
     "text": [
      "[[1.90000000e+01 0.00000000e+00 2.79000000e+01 0.00000000e+00\n",
      "  1.00000000e+00 1.68849240e+04]\n",
      " [1.80000000e+01 1.00000000e+00 3.37700000e+01 1.00000000e+00\n",
      "  0.00000000e+00 1.72555230e+03]\n",
      " [2.80000000e+01 1.00000000e+00 3.30000000e+01 3.00000000e+00\n",
      "  0.00000000e+00 4.44946200e+03]\n",
      " ...\n",
      " [1.80000000e+01 0.00000000e+00 3.68500000e+01 0.00000000e+00\n",
      "  0.00000000e+00 1.62983350e+03]\n",
      " [2.10000000e+01 0.00000000e+00 2.58000000e+01 0.00000000e+00\n",
      "  0.00000000e+00 2.00794500e+03]\n",
      " [6.10000000e+01 0.00000000e+00 2.90700000e+01 0.00000000e+00\n",
      "  1.00000000e+00 2.91413603e+04]]\n"
     ]
    }
   ],
   "source": [
    "perch_full=df.to_numpy() #  데이터프라임으로 변환\n",
    "print(perch_full)"
   ]
  },
  {
   "cell_type": "code",
   "execution_count": 38,
   "id": "1a14384e",
   "metadata": {},
   "outputs": [],
   "source": [
    "X_data=df.drop(\"bmi\",axis=1)\n",
    "X_data=df[\"bmi\"]"
   ]
  },
  {
   "cell_type": "markdown",
   "id": "52c655eb",
   "metadata": {},
   "source": [
    "# 훈련세트와 평가세트 분리"
   ]
  },
  {
   "cell_type": "code",
   "execution_count": 39,
   "id": "de0e9532",
   "metadata": {},
   "outputs": [],
   "source": [
    "from sklearn.model_selection import train_test_split #훈련세트와 평가세트를 분리\n",
    "X_train,X_test,Y_train,Y_test=train_test_split(X_data,X_data,random_state=100)"
   ]
  },
  {
   "cell_type": "code",
   "execution_count": 40,
   "id": "1bfaac39",
   "metadata": {},
   "outputs": [
    {
     "name": "stdout",
     "output_type": "stream",
     "text": [
      "(1003,) (1003,)\n"
     ]
    }
   ],
   "source": [
    "print(X_train.shape,Y_train.shape)#구조살펴보기 x값,y값 훈련세트"
   ]
  },
  {
   "cell_type": "markdown",
   "id": "d31f3cc2",
   "metadata": {},
   "source": [
    "# 사이킷런 변환기"
   ]
  },
  {
   "cell_type": "markdown",
   "id": "1f8ab503",
   "metadata": {},
   "source": [
    "  1 2  3   2**2 2**3 3**2\n",
    "[[1. 2. 3. 4. 6. 9.]]"
   ]
  },
  {
   "cell_type": "code",
   "execution_count": 22,
   "id": "ca0bbb17",
   "metadata": {},
   "outputs": [
    {
     "name": "stdout",
     "output_type": "stream",
     "text": [
      "[[1.00000000e+00 3.60000000e+01 0.00000000e+00 ... 0.00000000e+00\n",
      "  0.00000000e+00 2.77499081e+07]\n",
      " [1.00000000e+00 2.50000000e+01 1.00000000e+00 ... 0.00000000e+00\n",
      "  0.00000000e+00 2.37946991e+07]\n",
      " [1.00000000e+00 4.50000000e+01 1.00000000e+00 ... 0.00000000e+00\n",
      "  0.00000000e+00 7.07863605e+07]\n",
      " ...\n",
      " [1.00000000e+00 5.70000000e+01 0.00000000e+00 ... 0.00000000e+00\n",
      "  0.00000000e+00 1.39963267e+08]\n",
      " [1.00000000e+00 4.10000000e+01 0.00000000e+00 ... 0.00000000e+00\n",
      "  0.00000000e+00 4.31783610e+07]\n",
      " [1.00000000e+00 2.20000000e+01 0.00000000e+00 ... 0.00000000e+00\n",
      "  0.00000000e+00 7.46334427e+06]]\n",
      "(1003, 21)\n"
     ]
    }
   ],
   "source": [
    "from sklearn.preprocessing import PolynomialFeatures #다향특성만들기\n",
    "poly=PolynomialFeatures()#객체불려오기\n",
    "poly.fit(X_train)#2와 3에대한 값을 학습\n",
    "train_poly=poly.transform(X_train) #변수생성\n",
    "print(train_poly)#값 살펴보기\n",
    "print(train_poly.shape)#구조살펴보기"
   ]
  },
  {
   "cell_type": "code",
   "execution_count": 23,
   "id": "0c0b2039",
   "metadata": {},
   "outputs": [
    {
     "name": "stdout",
     "output_type": "stream",
     "text": [
      "[[3.60000000e+01 0.00000000e+00 0.00000000e+00 ... 0.00000000e+00\n",
      "  0.00000000e+00 2.77499081e+07]\n",
      " [2.50000000e+01 1.00000000e+00 4.00000000e+00 ... 0.00000000e+00\n",
      "  0.00000000e+00 2.37946991e+07]\n",
      " [4.50000000e+01 1.00000000e+00 2.00000000e+00 ... 0.00000000e+00\n",
      "  0.00000000e+00 7.07863605e+07]\n",
      " ...\n",
      " [5.70000000e+01 0.00000000e+00 0.00000000e+00 ... 0.00000000e+00\n",
      "  0.00000000e+00 1.39963267e+08]\n",
      " [4.10000000e+01 0.00000000e+00 0.00000000e+00 ... 0.00000000e+00\n",
      "  0.00000000e+00 4.31783610e+07]\n",
      " [2.20000000e+01 0.00000000e+00 0.00000000e+00 ... 0.00000000e+00\n",
      "  0.00000000e+00 7.46334427e+06]]\n",
      "(1003, 20)\n"
     ]
    }
   ],
   "source": [
    "poly=PolynomialFeatures(include_bias=False) # 바이오값 나태낼것이냐\n",
    "poly.fit(X_train)#X_trina에특성을생성\n",
    "train_poly=poly.transform(X_train) #테스트 폴리생성\n",
    "print(train_poly)#값 살펴보기\n",
    "print(train_poly.shape)#구조살펴보기"
   ]
  },
  {
   "cell_type": "code",
   "execution_count": 24,
   "id": "f3d25eb8",
   "metadata": {},
   "outputs": [
    {
     "data": {
      "text/plain": [
       "array(['age', 'sex', 'children', 'smoker', 'charges', 'age^2', 'age sex',\n",
       "       'age children', 'age smoker', 'age charges', 'sex^2',\n",
       "       'sex children', 'sex smoker', 'sex charges', 'children^2',\n",
       "       'children smoker', 'children charges', 'smoker^2',\n",
       "       'smoker charges', 'charges^2'], dtype=object)"
      ]
     },
     "execution_count": 24,
     "metadata": {},
     "output_type": "execute_result"
    }
   ],
   "source": [
    "poly.get_feature_names_out() #각 클래스의 특성 살펴보기"
   ]
  },
  {
   "cell_type": "code",
   "execution_count": 25,
   "id": "03ea1f63",
   "metadata": {},
   "outputs": [],
   "source": [
    "test_poly=poly.transform(X_test)#테스트 폴리만들기"
   ]
  },
  {
   "cell_type": "code",
   "execution_count": 30,
   "id": "f2c7bc5e",
   "metadata": {},
   "outputs": [
    {
     "name": "stderr",
     "output_type": "stream",
     "text": [
      "C:\\Users\\KOREAIT\\anaconda3\\envs\\pt3prer32\\lib\\site-packages\\sklearn\\base.py:443: UserWarning: X has feature names, but LinearRegression was fitted without feature names\n",
      "  warnings.warn(\n"
     ]
    },
    {
     "ename": "ValueError",
     "evalue": "X has 5 features, but LinearRegression is expecting 20 features as input.",
     "output_type": "error",
     "traceback": [
      "\u001b[1;31m---------------------------------------------------------------------------\u001b[0m",
      "\u001b[1;31mValueError\u001b[0m                                Traceback (most recent call last)",
      "Input \u001b[1;32mIn [30]\u001b[0m, in \u001b[0;36m<cell line: 4>\u001b[1;34m()\u001b[0m\n\u001b[0;32m      2\u001b[0m lr\u001b[38;5;241m=\u001b[39mLinearRegression()\u001b[38;5;66;03m#객체생성\u001b[39;00m\n\u001b[0;32m      3\u001b[0m lr\u001b[38;5;241m=\u001b[39mlr\u001b[38;5;241m.\u001b[39mfit(train_poly,Y_train) \u001b[38;5;66;03m#학습시키기\u001b[39;00m\n\u001b[1;32m----> 4\u001b[0m pred\u001b[38;5;241m=\u001b[39m\u001b[43mlr\u001b[49m\u001b[38;5;241;43m.\u001b[39;49m\u001b[43mpredict\u001b[49m\u001b[43m(\u001b[49m\u001b[43mX_test\u001b[49m\u001b[43m)\u001b[49m\n",
      "File \u001b[1;32m~\\anaconda3\\envs\\pt3prer32\\lib\\site-packages\\sklearn\\linear_model\\_base.py:386\u001b[0m, in \u001b[0;36mLinearModel.predict\u001b[1;34m(self, X)\u001b[0m\n\u001b[0;32m    372\u001b[0m \u001b[38;5;28;01mdef\u001b[39;00m \u001b[38;5;21mpredict\u001b[39m(\u001b[38;5;28mself\u001b[39m, X):\n\u001b[0;32m    373\u001b[0m     \u001b[38;5;124;03m\"\"\"\u001b[39;00m\n\u001b[0;32m    374\u001b[0m \u001b[38;5;124;03m    Predict using the linear model.\u001b[39;00m\n\u001b[0;32m    375\u001b[0m \n\u001b[1;32m   (...)\u001b[0m\n\u001b[0;32m    384\u001b[0m \u001b[38;5;124;03m        Returns predicted values.\u001b[39;00m\n\u001b[0;32m    385\u001b[0m \u001b[38;5;124;03m    \"\"\"\u001b[39;00m\n\u001b[1;32m--> 386\u001b[0m     \u001b[38;5;28;01mreturn\u001b[39;00m \u001b[38;5;28;43mself\u001b[39;49m\u001b[38;5;241;43m.\u001b[39;49m\u001b[43m_decision_function\u001b[49m\u001b[43m(\u001b[49m\u001b[43mX\u001b[49m\u001b[43m)\u001b[49m\n",
      "File \u001b[1;32m~\\anaconda3\\envs\\pt3prer32\\lib\\site-packages\\sklearn\\linear_model\\_base.py:369\u001b[0m, in \u001b[0;36mLinearModel._decision_function\u001b[1;34m(self, X)\u001b[0m\n\u001b[0;32m    366\u001b[0m \u001b[38;5;28;01mdef\u001b[39;00m \u001b[38;5;21m_decision_function\u001b[39m(\u001b[38;5;28mself\u001b[39m, X):\n\u001b[0;32m    367\u001b[0m     check_is_fitted(\u001b[38;5;28mself\u001b[39m)\n\u001b[1;32m--> 369\u001b[0m     X \u001b[38;5;241m=\u001b[39m \u001b[38;5;28;43mself\u001b[39;49m\u001b[38;5;241;43m.\u001b[39;49m\u001b[43m_validate_data\u001b[49m\u001b[43m(\u001b[49m\u001b[43mX\u001b[49m\u001b[43m,\u001b[49m\u001b[43m \u001b[49m\u001b[43maccept_sparse\u001b[49m\u001b[38;5;241;43m=\u001b[39;49m\u001b[43m[\u001b[49m\u001b[38;5;124;43m\"\u001b[39;49m\u001b[38;5;124;43mcsr\u001b[39;49m\u001b[38;5;124;43m\"\u001b[39;49m\u001b[43m,\u001b[49m\u001b[43m \u001b[49m\u001b[38;5;124;43m\"\u001b[39;49m\u001b[38;5;124;43mcsc\u001b[39;49m\u001b[38;5;124;43m\"\u001b[39;49m\u001b[43m,\u001b[49m\u001b[43m \u001b[49m\u001b[38;5;124;43m\"\u001b[39;49m\u001b[38;5;124;43mcoo\u001b[39;49m\u001b[38;5;124;43m\"\u001b[39;49m\u001b[43m]\u001b[49m\u001b[43m,\u001b[49m\u001b[43m \u001b[49m\u001b[43mreset\u001b[49m\u001b[38;5;241;43m=\u001b[39;49m\u001b[38;5;28;43;01mFalse\u001b[39;49;00m\u001b[43m)\u001b[49m\n\u001b[0;32m    370\u001b[0m     \u001b[38;5;28;01mreturn\u001b[39;00m safe_sparse_dot(X, \u001b[38;5;28mself\u001b[39m\u001b[38;5;241m.\u001b[39mcoef_\u001b[38;5;241m.\u001b[39mT, dense_output\u001b[38;5;241m=\u001b[39m\u001b[38;5;28;01mTrue\u001b[39;00m) \u001b[38;5;241m+\u001b[39m \u001b[38;5;28mself\u001b[39m\u001b[38;5;241m.\u001b[39mintercept_\n",
      "File \u001b[1;32m~\\anaconda3\\envs\\pt3prer32\\lib\\site-packages\\sklearn\\base.py:600\u001b[0m, in \u001b[0;36mBaseEstimator._validate_data\u001b[1;34m(self, X, y, reset, validate_separately, **check_params)\u001b[0m\n\u001b[0;32m    597\u001b[0m     out \u001b[38;5;241m=\u001b[39m X, y\n\u001b[0;32m    599\u001b[0m \u001b[38;5;28;01mif\u001b[39;00m \u001b[38;5;129;01mnot\u001b[39;00m no_val_X \u001b[38;5;129;01mand\u001b[39;00m check_params\u001b[38;5;241m.\u001b[39mget(\u001b[38;5;124m\"\u001b[39m\u001b[38;5;124mensure_2d\u001b[39m\u001b[38;5;124m\"\u001b[39m, \u001b[38;5;28;01mTrue\u001b[39;00m):\n\u001b[1;32m--> 600\u001b[0m     \u001b[38;5;28;43mself\u001b[39;49m\u001b[38;5;241;43m.\u001b[39;49m\u001b[43m_check_n_features\u001b[49m\u001b[43m(\u001b[49m\u001b[43mX\u001b[49m\u001b[43m,\u001b[49m\u001b[43m \u001b[49m\u001b[43mreset\u001b[49m\u001b[38;5;241;43m=\u001b[39;49m\u001b[43mreset\u001b[49m\u001b[43m)\u001b[49m\n\u001b[0;32m    602\u001b[0m \u001b[38;5;28;01mreturn\u001b[39;00m out\n",
      "File \u001b[1;32m~\\anaconda3\\envs\\pt3prer32\\lib\\site-packages\\sklearn\\base.py:400\u001b[0m, in \u001b[0;36mBaseEstimator._check_n_features\u001b[1;34m(self, X, reset)\u001b[0m\n\u001b[0;32m    397\u001b[0m     \u001b[38;5;28;01mreturn\u001b[39;00m\n\u001b[0;32m    399\u001b[0m \u001b[38;5;28;01mif\u001b[39;00m n_features \u001b[38;5;241m!=\u001b[39m \u001b[38;5;28mself\u001b[39m\u001b[38;5;241m.\u001b[39mn_features_in_:\n\u001b[1;32m--> 400\u001b[0m     \u001b[38;5;28;01mraise\u001b[39;00m \u001b[38;5;167;01mValueError\u001b[39;00m(\n\u001b[0;32m    401\u001b[0m         \u001b[38;5;124mf\u001b[39m\u001b[38;5;124m\"\u001b[39m\u001b[38;5;124mX has \u001b[39m\u001b[38;5;132;01m{\u001b[39;00mn_features\u001b[38;5;132;01m}\u001b[39;00m\u001b[38;5;124m features, but \u001b[39m\u001b[38;5;132;01m{\u001b[39;00m\u001b[38;5;28mself\u001b[39m\u001b[38;5;241m.\u001b[39m\u001b[38;5;18m__class__\u001b[39m\u001b[38;5;241m.\u001b[39m\u001b[38;5;18m__name__\u001b[39m\u001b[38;5;132;01m}\u001b[39;00m\u001b[38;5;124m \u001b[39m\u001b[38;5;124m\"\u001b[39m\n\u001b[0;32m    402\u001b[0m         \u001b[38;5;124mf\u001b[39m\u001b[38;5;124m\"\u001b[39m\u001b[38;5;124mis expecting \u001b[39m\u001b[38;5;132;01m{\u001b[39;00m\u001b[38;5;28mself\u001b[39m\u001b[38;5;241m.\u001b[39mn_features_in_\u001b[38;5;132;01m}\u001b[39;00m\u001b[38;5;124m features as input.\u001b[39m\u001b[38;5;124m\"\u001b[39m\n\u001b[0;32m    403\u001b[0m     )\n",
      "\u001b[1;31mValueError\u001b[0m: X has 5 features, but LinearRegression is expecting 20 features as input."
     ]
    }
   ],
   "source": [
    "from sklearn.linear_model import LinearRegression #라인모델 불러오기\n",
    "lr=LinearRegression()#객체생성\n",
    "lr=lr.fit(train_poly,Y_train) #학습시키기\n",
    "pred=lr.predict(X_test)"
   ]
  },
  {
   "cell_type": "code",
   "execution_count": null,
   "id": "fb95be04",
   "metadata": {},
   "outputs": [],
   "source": []
  },
  {
   "cell_type": "code",
   "execution_count": 27,
   "id": "6e70bb35",
   "metadata": {},
   "outputs": [
    {
     "name": "stdout",
     "output_type": "stream",
     "text": [
      "0.9999999999999991\n"
     ]
    }
   ],
   "source": [
    "print(lr.score(test_poly,Y_test)) #검증률"
   ]
  },
  {
   "cell_type": "code",
   "execution_count": 15,
   "id": "3fcb247b",
   "metadata": {},
   "outputs": [
    {
     "data": {
      "text/html": [
       "<style>#sk-container-id-1 {color: black;background-color: white;}#sk-container-id-1 pre{padding: 0;}#sk-container-id-1 div.sk-toggleable {background-color: white;}#sk-container-id-1 label.sk-toggleable__label {cursor: pointer;display: block;width: 100%;margin-bottom: 0;padding: 0.3em;box-sizing: border-box;text-align: center;}#sk-container-id-1 label.sk-toggleable__label-arrow:before {content: \"▸\";float: left;margin-right: 0.25em;color: #696969;}#sk-container-id-1 label.sk-toggleable__label-arrow:hover:before {color: black;}#sk-container-id-1 div.sk-estimator:hover label.sk-toggleable__label-arrow:before {color: black;}#sk-container-id-1 div.sk-toggleable__content {max-height: 0;max-width: 0;overflow: hidden;text-align: left;background-color: #f0f8ff;}#sk-container-id-1 div.sk-toggleable__content pre {margin: 0.2em;color: black;border-radius: 0.25em;background-color: #f0f8ff;}#sk-container-id-1 input.sk-toggleable__control:checked~div.sk-toggleable__content {max-height: 200px;max-width: 100%;overflow: auto;}#sk-container-id-1 input.sk-toggleable__control:checked~label.sk-toggleable__label-arrow:before {content: \"▾\";}#sk-container-id-1 div.sk-estimator input.sk-toggleable__control:checked~label.sk-toggleable__label {background-color: #d4ebff;}#sk-container-id-1 div.sk-label input.sk-toggleable__control:checked~label.sk-toggleable__label {background-color: #d4ebff;}#sk-container-id-1 input.sk-hidden--visually {border: 0;clip: rect(1px 1px 1px 1px);clip: rect(1px, 1px, 1px, 1px);height: 1px;margin: -1px;overflow: hidden;padding: 0;position: absolute;width: 1px;}#sk-container-id-1 div.sk-estimator {font-family: monospace;background-color: #f0f8ff;border: 1px dotted black;border-radius: 0.25em;box-sizing: border-box;margin-bottom: 0.5em;}#sk-container-id-1 div.sk-estimator:hover {background-color: #d4ebff;}#sk-container-id-1 div.sk-parallel-item::after {content: \"\";width: 100%;border-bottom: 1px solid gray;flex-grow: 1;}#sk-container-id-1 div.sk-label:hover label.sk-toggleable__label {background-color: #d4ebff;}#sk-container-id-1 div.sk-serial::before {content: \"\";position: absolute;border-left: 1px solid gray;box-sizing: border-box;top: 0;bottom: 0;left: 50%;z-index: 0;}#sk-container-id-1 div.sk-serial {display: flex;flex-direction: column;align-items: center;background-color: white;padding-right: 0.2em;padding-left: 0.2em;position: relative;}#sk-container-id-1 div.sk-item {position: relative;z-index: 1;}#sk-container-id-1 div.sk-parallel {display: flex;align-items: stretch;justify-content: center;background-color: white;position: relative;}#sk-container-id-1 div.sk-item::before, #sk-container-id-1 div.sk-parallel-item::before {content: \"\";position: absolute;border-left: 1px solid gray;box-sizing: border-box;top: 0;bottom: 0;left: 50%;z-index: -1;}#sk-container-id-1 div.sk-parallel-item {display: flex;flex-direction: column;z-index: 1;position: relative;background-color: white;}#sk-container-id-1 div.sk-parallel-item:first-child::after {align-self: flex-end;width: 50%;}#sk-container-id-1 div.sk-parallel-item:last-child::after {align-self: flex-start;width: 50%;}#sk-container-id-1 div.sk-parallel-item:only-child::after {width: 0;}#sk-container-id-1 div.sk-dashed-wrapped {border: 1px dashed gray;margin: 0 0.4em 0.5em 0.4em;box-sizing: border-box;padding-bottom: 0.4em;background-color: white;}#sk-container-id-1 div.sk-label label {font-family: monospace;font-weight: bold;display: inline-block;line-height: 1.2em;}#sk-container-id-1 div.sk-label-container {text-align: center;}#sk-container-id-1 div.sk-container {/* jupyter's `normalize.less` sets `[hidden] { display: none; }` but bootstrap.min.css set `[hidden] { display: none !important; }` so we also need the `!important` here to be able to override the default hidden behavior on the sphinx rendered scikit-learn.org. See: https://github.com/scikit-learn/scikit-learn/issues/21755 */display: inline-block !important;position: relative;}#sk-container-id-1 div.sk-text-repr-fallback {display: none;}</style><div id=\"sk-container-id-1\" class=\"sk-top-container\"><div class=\"sk-text-repr-fallback\"><pre>PolynomialFeatures(degree=5, include_bias=False)</pre><b>In a Jupyter environment, please rerun this cell to show the HTML representation or trust the notebook. <br />On GitHub, the HTML representation is unable to render, please try loading this page with nbviewer.org.</b></div><div class=\"sk-container\" hidden><div class=\"sk-item\"><div class=\"sk-estimator sk-toggleable\"><input class=\"sk-toggleable__control sk-hidden--visually\" id=\"sk-estimator-id-1\" type=\"checkbox\" checked><label for=\"sk-estimator-id-1\" class=\"sk-toggleable__label sk-toggleable__label-arrow\">PolynomialFeatures</label><div class=\"sk-toggleable__content\"><pre>PolynomialFeatures(degree=5, include_bias=False)</pre></div></div></div></div></div>"
      ],
      "text/plain": [
       "PolynomialFeatures(degree=5, include_bias=False)"
      ]
     },
     "execution_count": 15,
     "metadata": {},
     "output_type": "execute_result"
    }
   ],
   "source": [
    "poly=PolynomialFeatures(degree=5,include_bias=False) #  특성을 들어있는 값마큼 높여준다오스값제외\n",
    "poly.fit(X_train)#X_train에대한학습"
   ]
  },
  {
   "cell_type": "code",
   "execution_count": 16,
   "id": "b10a34d6",
   "metadata": {},
   "outputs": [
    {
     "data": {
      "text/plain": [
       "array(['x0', 'x1', 'x2', 'x0^2', 'x0 x1', 'x0 x2', 'x1^2', 'x1 x2',\n",
       "       'x2^2', 'x0^3', 'x0^2 x1', 'x0^2 x2', 'x0 x1^2', 'x0 x1 x2',\n",
       "       'x0 x2^2', 'x1^3', 'x1^2 x2', 'x1 x2^2', 'x2^3', 'x0^4', 'x0^3 x1',\n",
       "       'x0^3 x2', 'x0^2 x1^2', 'x0^2 x1 x2', 'x0^2 x2^2', 'x0 x1^3',\n",
       "       'x0 x1^2 x2', 'x0 x1 x2^2', 'x0 x2^3', 'x1^4', 'x1^3 x2',\n",
       "       'x1^2 x2^2', 'x1 x2^3', 'x2^4', 'x0^5', 'x0^4 x1', 'x0^4 x2',\n",
       "       'x0^3 x1^2', 'x0^3 x1 x2', 'x0^3 x2^2', 'x0^2 x1^3',\n",
       "       'x0^2 x1^2 x2', 'x0^2 x1 x2^2', 'x0^2 x2^3', 'x0 x1^4',\n",
       "       'x0 x1^3 x2', 'x0 x1^2 x2^2', 'x0 x1 x2^3', 'x0 x2^4', 'x1^5',\n",
       "       'x1^4 x2', 'x1^3 x2^2', 'x1^2 x2^3', 'x1 x2^4', 'x2^5'],\n",
       "      dtype=object)"
      ]
     },
     "execution_count": 16,
     "metadata": {},
     "output_type": "execute_result"
    }
   ],
   "source": [
    "poly.get_feature_names_out() #각 클래스를 공부시킴"
   ]
  },
  {
   "cell_type": "code",
   "execution_count": 17,
   "id": "2b0fd443",
   "metadata": {},
   "outputs": [
    {
     "name": "stdout",
     "output_type": "stream",
     "text": [
      "[[  19.6       5.14      3.04    384.16    100.744    59.584    26.4196\n",
      "    15.6256    9.2416]\n",
      " [  22.        5.88      3.52    484.      129.36     77.44     34.5744\n",
      "    20.6976   12.3904]\n",
      " [  18.7       5.2       3.12    349.69     97.24     58.344    27.04\n",
      "    16.224     9.7344]\n",
      " [  17.4       4.59      2.94    302.76     79.866    51.156    21.0681\n",
      "    13.4946    8.6436]\n",
      " [  36.       10.61      6.74   1296.      381.96    242.64    112.5721\n",
      "    71.5114   45.4276]\n",
      " [  25.        6.44      3.68    625.      161.       92.       41.4736\n",
      "    23.6992   13.5424]\n",
      " [  40.       11.93      7.11   1600.      477.2     284.4     142.3249\n",
      "    84.8223   50.5521]\n",
      " [  39.       12.43      7.35   1521.      484.77    286.65    154.5049\n",
      "    91.3605   54.0225]\n",
      " [  43.       11.93      7.28   1849.      512.99    313.04    142.3249\n",
      "    86.8504   52.9984]\n",
      " [  22.        5.64      3.52    484.      124.08     77.44     31.8096\n",
      "    19.8528   12.3904]\n",
      " [  20.        5.08      2.77    400.      101.6      55.4      25.8064\n",
      "    14.0716    7.6729]\n",
      " [  22.        6.11      3.52    484.      134.42     77.44     37.3321\n",
      "    21.5072   12.3904]\n",
      " [  24.        7.29      3.72    576.      174.96     89.28     53.1441\n",
      "    27.1188   13.8384]\n",
      " [  27.5       7.17      4.34    756.25    197.175   119.35     51.4089\n",
      "    31.1178   18.8356]\n",
      " [  43.       12.51      7.42   1849.      537.93    319.06    156.5001\n",
      "    92.8242   55.0564]\n",
      " [  40.       11.73      7.22   1600.      469.2     288.8     137.5929\n",
      "    84.6906   52.1284]\n",
      " [  24.        6.38      3.82    576.      153.12     91.68     40.7044\n",
      "    24.3716   14.5924]\n",
      " [  21.        5.92      3.31    441.      124.32     69.51     35.0464\n",
      "    19.5952   10.9561]\n",
      " [  27.5       7.05      4.34    756.25    193.875   119.35     49.7025\n",
      "    30.597    18.8356]\n",
      " [  40.       12.38      7.46   1600.      495.2     298.4     153.2644\n",
      "    92.3548   55.6516]\n",
      " [  32.8      10.03      6.02   1075.84    328.984   197.456   100.6009\n",
      "    60.3806   36.2404]\n",
      " [  26.5       7.17      4.14    702.25    190.005   109.71     51.4089\n",
      "    29.6838   17.1396]\n",
      " [  36.5      10.88      6.86   1332.25    397.12    250.39    118.3744\n",
      "    74.6368   47.0596]\n",
      " [  13.7       3.53      2.      187.69     48.361    27.4      12.4609\n",
      "     7.06      4.    ]\n",
      " [  22.7       5.95      3.63    515.29    135.065    82.401    35.4025\n",
      "    21.5985   13.1769]\n",
      " [  15.        3.82      2.43    225.       57.3      36.45     14.5924\n",
      "     9.2826    5.9049]\n",
      " [  37.       10.57      6.37   1369.      391.09    235.69    111.7249\n",
      "    67.3309   40.5769]\n",
      " [  35.       11.49      7.8    1225.      402.15    273.      132.0201\n",
      "    89.622    60.84  ]\n",
      " [  28.7       7.59      4.64    823.69    217.833   133.168    57.6081\n",
      "    35.2176   21.5296]\n",
      " [  23.5       6.28      3.72    552.25    147.58     87.42     39.4384\n",
      "    23.3616   13.8384]\n",
      " [  39.       11.14      6.     1521.      434.46    234.      124.0996\n",
      "    66.84     36.    ]\n",
      " [  21.        5.69      3.56    441.      119.49     74.76     32.3761\n",
      "    20.2564   12.6736]\n",
      " [  23.        5.22      3.63    529.      120.06     83.49     27.2484\n",
      "    18.9486   13.1769]\n",
      " [  22.        5.52      4.      484.      121.44     88.       30.4704\n",
      "    22.08     16.    ]\n",
      " [  44.       12.49      7.6    1936.      549.56    334.4     156.0001\n",
      "    94.924    57.76  ]\n",
      " [  22.5       6.79      3.62    506.25    152.775    81.45     46.1041\n",
      "    24.5798   13.1044]\n",
      " [  19.        5.64      3.05    361.      107.16     57.95     31.8096\n",
      "    17.202     9.3025]\n",
      " [  37.       10.84      6.26   1369.      401.08    231.62    117.5056\n",
      "    67.8584   39.1876]\n",
      " [  22.        6.11      3.41    484.      134.42     75.02     37.3321\n",
      "    20.8351   11.6281]\n",
      " [  25.6       6.56      4.24    655.36    167.936   108.544    43.0336\n",
      "    27.8144   17.9776]\n",
      " [  42.       12.8       6.87   1764.      537.6     288.54    163.84\n",
      "    87.936    47.1969]\n",
      " [  34.5      10.26      6.39   1190.25    353.97    220.455   105.2676\n",
      "    65.5614   40.8321]]\n",
      "(42, 9)\n"
     ]
    }
   ],
   "source": [
    "poly=PolynomialFeatures(degree=5,include_bias=False)# PolyFaluete  deree은 여러게 생성 \n",
    "#degree은 데이터를 적게 나왔을때 사용\n",
    "poly.fit(X_train)#X_trina에특성을생성\n",
    "test_poly=poly.transform(X_test) #테스트 폴리생성\n",
    "print(train_poly)#값 살펴보기\n",
    "print(train_poly.shape)#구조살펴보기"
   ]
  },
  {
   "cell_type": "code",
   "execution_count": 18,
   "id": "69e5708b",
   "metadata": {},
   "outputs": [
    {
     "ename": "NameError",
     "evalue": "name 'X' is not defined",
     "output_type": "error",
     "traceback": [
      "\u001b[1;31m---------------------------------------------------------------------------\u001b[0m",
      "\u001b[1;31mNameError\u001b[0m                                 Traceback (most recent call last)",
      "Input \u001b[1;32mIn [18]\u001b[0m, in \u001b[0;36m<cell line: 1>\u001b[1;34m()\u001b[0m\n\u001b[1;32m----> 1\u001b[0m \u001b[43mX\u001b[49m\n",
      "\u001b[1;31mNameError\u001b[0m: name 'X' is not defined"
     ]
    }
   ],
   "source": [
    "X"
   ]
  },
  {
   "cell_type": "markdown",
   "id": "7218c560",
   "metadata": {},
   "source": [
    "# 다중회귀 모델훈련하기"
   ]
  },
  {
   "cell_type": "code",
   "execution_count": null,
   "id": "348e892a",
   "metadata": {},
   "outputs": [],
   "source": [
    "from sklearn.linear_model import LinearRegression #라인모델 불러오기\n",
    "lr=LinearRegression()#객체생성\n",
    "lr=lr.fit(train_poly,Y_train) #학습시키기\n",
    "print(lr.score(test_poly,Y_test))#검증 ,# 이때 degree는 숫자가 높다고 더 높게 안나온다"
   ]
  },
  {
   "cell_type": "code",
   "execution_count": null,
   "id": "a8e0bc5f",
   "metadata": {},
   "outputs": [],
   "source": [
    "poly=PolynomialFeatures(degree=5,include_bias=False)# PolyFaluete  deree은 여러게 생성 \n",
    "#degree은 데이터를 적게 나왔을때 사용\n",
    "poly.fit(X_test)#X_test에특성을생성\n",
    "test_poly=poly.transform(X_test) #테스트 폴리생성\n",
    "print(test_poly)#값 살펴보기\n",
    "print(test_poly.shape)#구조살펴보기"
   ]
  },
  {
   "cell_type": "code",
   "execution_count": null,
   "id": "ad8f79c6",
   "metadata": {},
   "outputs": [],
   "source": [
    "from sklearn.linear_model import LinearRegression #라인모델 불러오기\n",
    "lr=LinearRegression()#객체생성\n",
    "lr=lr.fit(test_poly,Y_test) #학습시키기\n",
    "print(lr.score(test_poly,Y_test))#검증 ,# 이때 degree는 숫자가 높다고 더 높게 안나온다"
   ]
  },
  {
   "cell_type": "markdown",
   "id": "c471eb71",
   "metadata": {},
   "source": [
    "# 규제"
   ]
  },
  {
   "cell_type": "code",
   "execution_count": null,
   "id": "de826236",
   "metadata": {},
   "outputs": [],
   "source": [
    "from sklearn.preprocessing import StandardScaler #함수불려오기\n",
    "ss=StandardScaler()#객체생성\n",
    "ss.fit(train_poly)#StandardScaler의 train_poly에 들어있는 값 학습\n",
    "train_sacled=ss.transform(train_poly)# 변수생성\n",
    "test_scaled=ss.transform(test_poly)# 변수생성"
   ]
  },
  {
   "cell_type": "code",
   "execution_count": null,
   "id": "3141cbef",
   "metadata": {
    "scrolled": true
   },
   "outputs": [],
   "source": [
    "train_sacled "
   ]
  },
  {
   "cell_type": "raw",
   "id": "695c2453",
   "metadata": {},
   "source": [
    "train_sacled\n",
    "ss.mean+ss.scale= train_sacled"
   ]
  },
  {
   "cell_type": "code",
   "execution_count": null,
   "id": "dd8a71be",
   "metadata": {
    "scrolled": true
   },
   "outputs": [],
   "source": [
    "ss.mean_"
   ]
  },
  {
   "cell_type": "code",
   "execution_count": 35,
   "id": "1df6bf1d",
   "metadata": {},
   "outputs": [
    {
     "data": {
      "text/plain": [
       "array([8.72831196e+00, 2.87343151e+00, 1.74638123e+00, 5.24782988e+02,\n",
       "       1.60836428e+02, 9.64793789e+01, 4.95165749e+01, 2.97578956e+01,\n",
       "       1.81139412e+01, 2.50155373e+04, 7.49275582e+03, 4.47153009e+03,\n",
       "       2.25433695e+03, 1.34683566e+03, 8.11988865e+02, 6.81265335e+02,\n",
       "       4.07639942e+02, 2.46263218e+02, 1.50164227e+02, 1.10854579e+06,\n",
       "       3.28247889e+05, 1.95342267e+05, 9.76153931e+04, 5.81064317e+04,\n",
       "       3.48472685e+04, 2.91591483e+04, 1.73674986e+04, 1.04273041e+04,\n",
       "       6.30922253e+03, 8.75059964e+03, 5.21694989e+03, 3.13701782e+03,\n",
       "       1.90225250e+03, 1.16311955e+03, 4.77814865e+07, 1.40483165e+07,\n",
       "       8.34702250e+06, 4.14736151e+06, 2.46313653e+06, 1.47240427e+06,\n",
       "       1.22970655e+06, 7.30196641e+05, 4.36628701e+05, 2.62841007e+05,\n",
       "       3.66270535e+05, 2.17518714e+05, 1.30152823e+05, 7.84482709e+04,\n",
       "       4.76246733e+04, 1.09609367e+05, 6.51258832e+04, 3.90090183e+04,\n",
       "       2.35520992e+04, 1.43325296e+04, 8.79122582e+03, 2.03845296e+09,\n",
       "       5.96348556e+08, 3.54060802e+08, 1.75142503e+08, 1.03883490e+08,\n",
       "       6.19769790e+07, 5.16512117e+07, 3.06121680e+07, 1.82567644e+07,\n",
       "       1.09524700e+07, 1.52990190e+07, 9.06235245e+06, 5.40425478e+06,\n",
       "       3.24357244e+06, 1.95892959e+06, 4.55223020e+06, 2.69584136e+06,\n",
       "       1.60804334e+06, 9.65932946e+05, 5.84238499e+05, 3.55809955e+05,\n",
       "       1.36090929e+06, 8.06014918e+05, 4.81083151e+05, 2.89342633e+05,\n",
       "       1.75348465e+05, 1.07079082e+05, 6.58969500e+04, 8.67257455e+10,\n",
       "       2.52754159e+10, 1.50039350e+10, 7.39342015e+09, 4.38285952e+09,\n",
       "       2.61201355e+09, 2.17117596e+09, 1.28547823e+09, 7.65432148e+08,\n",
       "       4.58176107e+08, 6.40244236e+08, 3.78659080e+08, 2.25320489e+08,\n",
       "       1.34846878e+08, 8.11420012e+07, 1.89620365e+08, 1.12052226e+08,\n",
       "       6.66491466e+07, 3.98912755e+07, 2.40202926e+07, 1.45496024e+07,\n",
       "       5.64139195e+07, 3.33179787e+07, 1.98157655e+07, 1.18656266e+07,\n",
       "       7.15254849e+06, 4.34018189e+06, 2.65133257e+06, 1.68618638e+07,\n",
       "       9.95637971e+06, 5.92312386e+06, 3.54978512e+06, 2.14306157e+06,\n",
       "       1.30336330e+06, 7.98632534e+05, 4.93124746e+05, 3.69182764e+12,\n",
       "       1.07266782e+12, 6.36926125e+11, 3.12744430e+11, 1.85394035e+11,\n",
       "       1.10441064e+11, 9.15203786e+10, 5.41667423e+10, 3.22275899e+10,\n",
       "       1.92658908e+10, 2.68873448e+10, 1.58898272e+10, 9.44342613e+09,\n",
       "       5.64137278e+09, 3.38630729e+09, 7.93175452e+09, 4.68131430e+09,\n",
       "       2.77953742e+09, 1.65964313e+09, 9.96233025e+08, 6.01069791e+08,\n",
       "       2.34995377e+09, 1.38541684e+09, 8.22022538e+08, 4.90717808e+08,\n",
       "       2.94660469e+08, 1.77949791e+08, 1.08082300e+08, 6.99327531e+08,\n",
       "       4.11949446e+08, 2.44328973e+08, 1.45872400e+08, 8.76538023e+07,\n",
       "       5.30083664e+07, 3.22640597e+07, 1.97680831e+07, 2.09063532e+08,\n",
       "       1.23090880e+08, 7.30023926e+07, 4.36065857e+07, 2.62326128e+07,\n",
       "       1.58933657e+07, 9.69898462e+06, 5.96290027e+06, 3.69413886e+06])"
      ]
     },
     "execution_count": 35,
     "metadata": {},
     "output_type": "execute_result"
    }
   ],
   "source": [
    "ss.scale_"
   ]
  },
  {
   "cell_type": "markdown",
   "id": "b1cfe328",
   "metadata": {},
   "source": [
    "# 릿지 회귀 (계수를 제곱한것)"
   ]
  },
  {
   "cell_type": "code",
   "execution_count": 47,
   "id": "56da71fe",
   "metadata": {},
   "outputs": [
    {
     "name": "stdout",
     "output_type": "stream",
     "text": [
      "0.9908439211275635\n",
      "0.9876369622189604\n"
     ]
    }
   ],
   "source": [
    "from sklearn.linear_model import Ridge#함수호출\n",
    "ridge=Ridge()#객체생성\n",
    "ridge.fit(train_sacled,Y_train)#학습시키기\n",
    "print(ridge.score(train_sacled,Y_train))\n",
    "print(ridge.score(test_scaled,Y_test))"
   ]
  },
  {
   "cell_type": "code",
   "execution_count": 48,
   "id": "3be649d0",
   "metadata": {},
   "outputs": [],
   "source": [
    "import matplotlib.pyplot as plt #모듈생성\n",
    "train_score=[]#변수생성\n",
    "test_score=[]#변수생성"
   ]
  },
  {
   "cell_type": "code",
   "execution_count": 49,
   "id": "8aaa4e8c",
   "metadata": {},
   "outputs": [],
   "source": [
    "from sklearn.linear_model import Ridge\n",
    "alpha_list=[0.001,0.01,0.1,1,10,100]\n",
    "for alpha in alpha_list:\n",
    "    #릿지모델생성\n",
    "    ridge=Ridge(alpha=alpha)\n",
    "    #릿지모델학습\n",
    "    ridge.fit(train_sacled,Y_train)\n",
    "    #훈련점수와 테스트 점수를저장합니다\n",
    "    train_score.append(ridge.score(train_sacled,Y_train))\n",
    "    test_score.append(ridge.score(test_scaled,Y_test))"
   ]
  },
  {
   "cell_type": "code",
   "execution_count": 50,
   "id": "56ae5095",
   "metadata": {},
   "outputs": [
    {
     "data": {
      "text/plain": [
       "Text(0, 0.5, 'R^2')"
      ]
     },
     "execution_count": 50,
     "metadata": {},
     "output_type": "execute_result"
    },
    {
     "data": {
      "image/png": "[encoded data removed]",
      "text/plain": [
       "<Figure size 432x288 with 1 Axes>"
      ]
     },
     "metadata": {
      "needs_background": "light"
     },
     "output_type": "display_data"
    }
   ],
   "source": [
    "plt.plot(np.log10(alpha_list),train_score)\n",
    "plt.plot(np.log10(alpha_list),test_score)\n",
    "plt.xlabel(\"alpha\")\n",
    "plt.ylabel(\"R^2\")"
   ]
  },
  {
   "cell_type": "code",
   "execution_count": null,
   "id": "a63ab2af",
   "metadata": {},
   "outputs": [],
   "source": []
  },
  {
   "cell_type": "code",
   "execution_count": null,
   "id": "486dca97",
   "metadata": {},
   "outputs": [],
   "source": []
  }
 ],
 "metadata": {
  "kernelspec": {
   "display_name": "Python 3 (ipykernel)",
   "language": "python",
   "name": "python3"
  },
  "language_info": {
   "codemirror_mode": {
    "name": "ipython",
    "version": 3
   },
   "file_extension": ".py",
   "mimetype": "text/x-python",
   "name": "python",
   "nbconvert_exporter": "python",
   "pygments_lexer": "ipython3",
   "version": "3.9.12"
  },
  "toc": {
   "base_numbering": 1,
   "nav_menu": {},
   "number_sections": true,
   "sideBar": true,
   "skip_h1_title": false,
   "title_cell": "Table of Contents",
   "title_sidebar": "Contents",
   "toc_cell": false,
   "toc_position": {},
   "toc_section_display": true,
   "toc_window_display": false
  },
  "varInspector": {
   "cols": {
    "lenName": 16,
    "lenType": 16,
    "lenVar": 40
   },
   "kernels_config": {
    "python": {
     "delete_cmd_postfix": "",
     "delete_cmd_prefix": "del ",
     "library": "var_list.py",
     "varRefreshCmd": "print(var_dic_list())"
    },
    "r": {
     "delete_cmd_postfix": ") ",
     "delete_cmd_prefix": "rm(",
     "library": "var_list.r",
     "varRefreshCmd": "cat(var_dic_list()) "
    }
   },
   "types_to_exclude": [
    "module",
    "function",
    "builtin_function_or_method",
    "instance",
    "_Feature"
   ],
   "window_display": false
  }
 },
 "nbformat": 4,
 "nbformat_minor": 5
}

{
 "cells": [
  {
   "cell_type": "markdown",
   "id": "0a71a1cb",
   "metadata": {},
   "source": [
    "# 로지스틱회귀 \n",
    "    -선형 방정식을 사용한 분류 알고리즘 입니다\n",
    "\n",
    "# 다중분류\n",
    "    -타깃클래스가 2개 이상 인 분류 문제 입니다.로지스틱회귀는 다중 분류를 위햐 소프트 맥스함수사용"
   ]
  },
  {
   "cell_type": "markdown",
   "id": "935c0a15",
   "metadata": {},
   "source": [
    "# 1.1데이터준비"
   ]
  },
  {
   "cell_type": "code",
   "execution_count": 1,
   "id": "8afe3f94",
   "metadata": {},
   "outputs": [],
   "source": [
    "import pandas as pd"
   ]
  },
  {
   "cell_type": "code",
   "execution_count": 9,
   "id": "d2d1734e",
   "metadata": {},
   "outputs": [
    {
     "name": "stdout",
     "output_type": "stream",
     "text": [
      "(159, 6)\n",
      "  Species  Weight  Length  Diagonal   Height   Width\n",
      "0   Bream   242.0    25.4      30.0  11.5200  4.0200\n",
      "1   Bream   290.0    26.3      31.2  12.4800  4.3056\n",
      "2   Bream   340.0    26.5      31.1  12.3778  4.6961\n",
      "3   Bream   363.0    29.0      33.5  12.7300  4.4555\n",
      "4   Bream   430.0    29.0      34.0  12.4440  5.1340\n"
     ]
    }
   ],
   "source": [
    "fish=pd.read_csv(\"fish.csv\")\n",
    "print(fish.shape)\n",
    "print(fish.head())"
   ]
  },
  {
   "cell_type": "code",
   "execution_count": 7,
   "id": "4ced5db0",
   "metadata": {},
   "outputs": [
    {
     "name": "stdout",
     "output_type": "stream",
     "text": [
      "['Bream' 'Roach' 'Whitefish' 'Parkki' 'Perch' 'Pike' 'Smelt']\n"
     ]
    }
   ],
   "source": [
    "print(pd.unique(fish['Species']))"
   ]
  },
  {
   "cell_type": "code",
   "execution_count": 19,
   "id": "d699ee1c",
   "metadata": {},
   "outputs": [],
   "source": [
    "fish_data=fish.drop([\"Species\"],axis=1).to_numpy()"
   ]
  },
  {
   "cell_type": "code",
   "execution_count": 17,
   "id": "3115fea7",
   "metadata": {},
   "outputs": [],
   "source": [
    "fish_data=fish_data.to_numpy()"
   ]
  },
  {
   "cell_type": "code",
   "execution_count": 20,
   "id": "976abf87",
   "metadata": {},
   "outputs": [
    {
     "data": {
      "text/plain": [
       "array([[2.42000e+02, 2.54000e+01, 3.00000e+01, 1.15200e+01, 4.02000e+00],\n",
       "       [2.90000e+02, 2.63000e+01, 3.12000e+01, 1.24800e+01, 4.30560e+00],\n",
       "       [3.40000e+02, 2.65000e+01, 3.11000e+01, 1.23778e+01, 4.69610e+00],\n",
       "       [3.63000e+02, 2.90000e+01, 3.35000e+01, 1.27300e+01, 4.45550e+00],\n",
       "       [4.30000e+02, 2.90000e+01, 3.40000e+01, 1.24440e+01, 5.13400e+00],\n",
       "       [4.50000e+02, 2.97000e+01, 3.47000e+01, 1.36024e+01, 4.92740e+00],\n",
       "       [5.00000e+02, 2.97000e+01, 3.45000e+01, 1.41795e+01, 5.27850e+00],\n",
       "       [3.90000e+02, 3.00000e+01, 3.50000e+01, 1.26700e+01, 4.69000e+00],\n",
       "       [4.50000e+02, 3.00000e+01, 3.51000e+01, 1.40049e+01, 4.84380e+00],\n",
       "       [5.00000e+02, 3.07000e+01, 3.62000e+01, 1.42266e+01, 4.95940e+00],\n",
       "       [4.75000e+02, 3.10000e+01, 3.62000e+01, 1.42628e+01, 5.10420e+00],\n",
       "       [5.00000e+02, 3.10000e+01, 3.62000e+01, 1.43714e+01, 4.81460e+00],\n",
       "       [5.00000e+02, 3.15000e+01, 3.64000e+01, 1.37592e+01, 4.36800e+00],\n",
       "       [3.40000e+02, 3.20000e+01, 3.73000e+01, 1.39129e+01, 5.07280e+00],\n",
       "       [6.00000e+02, 3.20000e+01, 3.72000e+01, 1.49544e+01, 5.17080e+00],\n",
       "       [6.00000e+02, 3.20000e+01, 3.72000e+01, 1.54380e+01, 5.58000e+00],\n",
       "       [7.00000e+02, 3.30000e+01, 3.83000e+01, 1.48604e+01, 5.28540e+00],\n",
       "       [7.00000e+02, 3.30000e+01, 3.85000e+01, 1.49380e+01, 5.19750e+00],\n",
       "       [6.10000e+02, 3.35000e+01, 3.86000e+01, 1.56330e+01, 5.13380e+00],\n",
       "       [6.50000e+02, 3.35000e+01, 3.87000e+01, 1.44738e+01, 5.72760e+00],\n",
       "       [5.75000e+02, 3.40000e+01, 3.95000e+01, 1.51285e+01, 5.56950e+00],\n",
       "       [6.85000e+02, 3.40000e+01, 3.92000e+01, 1.59936e+01, 5.37040e+00],\n",
       "       [6.20000e+02, 3.45000e+01, 3.97000e+01, 1.55227e+01, 5.28010e+00],\n",
       "       [6.80000e+02, 3.50000e+01, 4.06000e+01, 1.54686e+01, 6.13060e+00],\n",
       "       [7.00000e+02, 3.50000e+01, 4.05000e+01, 1.62405e+01, 5.58900e+00],\n",
       "       [7.25000e+02, 3.50000e+01, 4.09000e+01, 1.63600e+01, 6.05320e+00],\n",
       "       [7.20000e+02, 3.50000e+01, 4.06000e+01, 1.63618e+01, 6.09000e+00],\n",
       "       [7.14000e+02, 3.60000e+01, 4.15000e+01, 1.65170e+01, 5.85150e+00],\n",
       "       [8.50000e+02, 3.60000e+01, 4.16000e+01, 1.68896e+01, 6.19840e+00],\n",
       "       [1.00000e+03, 3.70000e+01, 4.26000e+01, 1.89570e+01, 6.60300e+00],\n",
       "       [9.20000e+02, 3.85000e+01, 4.41000e+01, 1.80369e+01, 6.30630e+00],\n",
       "       [9.55000e+02, 3.85000e+01, 4.40000e+01, 1.80840e+01, 6.29200e+00],\n",
       "       [9.25000e+02, 3.95000e+01, 4.53000e+01, 1.87542e+01, 6.74970e+00],\n",
       "       [9.75000e+02, 4.10000e+01, 4.59000e+01, 1.86354e+01, 6.74730e+00],\n",
       "       [9.50000e+02, 4.10000e+01, 4.65000e+01, 1.76235e+01, 6.37050e+00],\n",
       "       [4.00000e+01, 1.41000e+01, 1.62000e+01, 4.14720e+00, 2.26800e+00],\n",
       "       [6.90000e+01, 1.82000e+01, 2.03000e+01, 5.29830e+00, 2.82170e+00],\n",
       "       [7.80000e+01, 1.88000e+01, 2.12000e+01, 5.57560e+00, 2.90440e+00],\n",
       "       [8.70000e+01, 1.98000e+01, 2.22000e+01, 5.61660e+00, 3.17460e+00],\n",
       "       [1.20000e+02, 2.00000e+01, 2.22000e+01, 6.21600e+00, 3.57420e+00],\n",
       "       [0.00000e+00, 2.05000e+01, 2.28000e+01, 6.47520e+00, 3.35160e+00],\n",
       "       [1.10000e+02, 2.08000e+01, 2.31000e+01, 6.16770e+00, 3.39570e+00],\n",
       "       [1.20000e+02, 2.10000e+01, 2.37000e+01, 6.11460e+00, 3.29430e+00],\n",
       "       [1.50000e+02, 2.20000e+01, 2.47000e+01, 5.80450e+00, 3.75440e+00],\n",
       "       [1.45000e+02, 2.20000e+01, 2.43000e+01, 6.63390e+00, 3.54780e+00],\n",
       "       [1.60000e+02, 2.25000e+01, 2.53000e+01, 7.03340e+00, 3.82030e+00],\n",
       "       [1.40000e+02, 2.25000e+01, 2.50000e+01, 6.55000e+00, 3.32500e+00],\n",
       "       [1.60000e+02, 2.25000e+01, 2.50000e+01, 6.40000e+00, 3.80000e+00],\n",
       "       [1.69000e+02, 2.40000e+01, 2.72000e+01, 7.53440e+00, 3.83520e+00],\n",
       "       [1.61000e+02, 2.34000e+01, 2.67000e+01, 6.91530e+00, 3.63120e+00],\n",
       "       [2.00000e+02, 2.35000e+01, 2.68000e+01, 7.39680e+00, 4.12720e+00],\n",
       "       [1.80000e+02, 2.52000e+01, 2.79000e+01, 7.08660e+00, 3.90600e+00],\n",
       "       [2.90000e+02, 2.60000e+01, 2.92000e+01, 8.87680e+00, 4.49680e+00],\n",
       "       [2.72000e+02, 2.70000e+01, 3.06000e+01, 8.56800e+00, 4.77360e+00],\n",
       "       [3.90000e+02, 3.17000e+01, 3.50000e+01, 9.48500e+00, 5.35500e+00],\n",
       "       [2.70000e+02, 2.60000e+01, 2.87000e+01, 8.38040e+00, 4.24760e+00],\n",
       "       [2.70000e+02, 2.65000e+01, 2.93000e+01, 8.14540e+00, 4.24850e+00],\n",
       "       [3.06000e+02, 2.80000e+01, 3.08000e+01, 8.77800e+00, 4.68160e+00],\n",
       "       [5.40000e+02, 3.10000e+01, 3.40000e+01, 1.07440e+01, 6.56200e+00],\n",
       "       [8.00000e+02, 3.64000e+01, 3.96000e+01, 1.17612e+01, 6.57360e+00],\n",
       "       [1.00000e+03, 4.00000e+01, 4.35000e+01, 1.23540e+01, 6.52500e+00],\n",
       "       [5.50000e+01, 1.47000e+01, 1.65000e+01, 6.84750e+00, 2.32650e+00],\n",
       "       [6.00000e+01, 1.55000e+01, 1.74000e+01, 6.57720e+00, 2.31420e+00],\n",
       "       [9.00000e+01, 1.77000e+01, 1.98000e+01, 7.40520e+00, 2.67300e+00],\n",
       "       [1.20000e+02, 1.90000e+01, 2.13000e+01, 8.39220e+00, 2.91810e+00],\n",
       "       [1.50000e+02, 2.00000e+01, 2.24000e+01, 8.89280e+00, 3.29280e+00],\n",
       "       [1.40000e+02, 2.07000e+01, 2.32000e+01, 8.53760e+00, 3.29440e+00],\n",
       "       [1.70000e+02, 2.07000e+01, 2.32000e+01, 9.39600e+00, 3.41040e+00],\n",
       "       [1.45000e+02, 2.15000e+01, 2.41000e+01, 9.73640e+00, 3.15710e+00],\n",
       "       [2.00000e+02, 2.30000e+01, 2.58000e+01, 1.03458e+01, 3.66360e+00],\n",
       "       [2.73000e+02, 2.50000e+01, 2.80000e+01, 1.10880e+01, 4.14400e+00],\n",
       "       [3.00000e+02, 2.60000e+01, 2.90000e+01, 1.13680e+01, 4.23400e+00],\n",
       "       [5.90000e+00, 8.40000e+00, 8.80000e+00, 2.11200e+00, 1.40800e+00],\n",
       "       [3.20000e+01, 1.37000e+01, 1.47000e+01, 3.52800e+00, 1.99920e+00],\n",
       "       [4.00000e+01, 1.50000e+01, 1.60000e+01, 3.82400e+00, 2.43200e+00],\n",
       "       [5.15000e+01, 1.62000e+01, 1.72000e+01, 4.59240e+00, 2.63160e+00],\n",
       "       [7.00000e+01, 1.74000e+01, 1.85000e+01, 4.58800e+00, 2.94150e+00],\n",
       "       [1.00000e+02, 1.80000e+01, 1.92000e+01, 5.22240e+00, 3.32160e+00],\n",
       "       [7.80000e+01, 1.87000e+01, 1.94000e+01, 5.19920e+00, 3.12340e+00],\n",
       "       [8.00000e+01, 1.90000e+01, 2.02000e+01, 5.63580e+00, 3.05020e+00],\n",
       "       [8.50000e+01, 1.96000e+01, 2.08000e+01, 5.13760e+00, 3.03680e+00],\n",
       "       [8.50000e+01, 2.00000e+01, 2.10000e+01, 5.08200e+00, 2.77200e+00],\n",
       "       [1.10000e+02, 2.10000e+01, 2.25000e+01, 5.69250e+00, 3.55500e+00],\n",
       "       [1.15000e+02, 2.10000e+01, 2.25000e+01, 5.91750e+00, 3.30750e+00],\n",
       "       [1.25000e+02, 2.10000e+01, 2.25000e+01, 5.69250e+00, 3.66750e+00],\n",
       "       [1.30000e+02, 2.13000e+01, 2.28000e+01, 6.38400e+00, 3.53400e+00],\n",
       "       [1.20000e+02, 2.20000e+01, 2.35000e+01, 6.11000e+00, 3.40750e+00],\n",
       "       [1.20000e+02, 2.20000e+01, 2.35000e+01, 5.64000e+00, 3.52500e+00],\n",
       "       [1.30000e+02, 2.20000e+01, 2.35000e+01, 6.11000e+00, 3.52500e+00],\n",
       "       [1.35000e+02, 2.20000e+01, 2.35000e+01, 5.87500e+00, 3.52500e+00],\n",
       "       [1.10000e+02, 2.20000e+01, 2.35000e+01, 5.52250e+00, 3.99500e+00],\n",
       "       [1.30000e+02, 2.25000e+01, 2.40000e+01, 5.85600e+00, 3.62400e+00],\n",
       "       [1.50000e+02, 2.25000e+01, 2.40000e+01, 6.79200e+00, 3.62400e+00],\n",
       "       [1.45000e+02, 2.27000e+01, 2.42000e+01, 5.95320e+00, 3.63000e+00],\n",
       "       [1.50000e+02, 2.30000e+01, 2.45000e+01, 5.21850e+00, 3.62600e+00],\n",
       "       [1.70000e+02, 2.35000e+01, 2.50000e+01, 6.27500e+00, 3.72500e+00],\n",
       "       [2.25000e+02, 2.40000e+01, 2.55000e+01, 7.29300e+00, 3.72300e+00],\n",
       "       [1.45000e+02, 2.40000e+01, 2.55000e+01, 6.37500e+00, 3.82500e+00],\n",
       "       [1.88000e+02, 2.46000e+01, 2.62000e+01, 6.73340e+00, 4.16580e+00],\n",
       "       [1.80000e+02, 2.50000e+01, 2.65000e+01, 6.43950e+00, 3.68350e+00],\n",
       "       [1.97000e+02, 2.56000e+01, 2.70000e+01, 6.56100e+00, 4.23900e+00],\n",
       "       [2.18000e+02, 2.65000e+01, 2.80000e+01, 7.16800e+00, 4.14400e+00],\n",
       "       [3.00000e+02, 2.73000e+01, 2.87000e+01, 8.32300e+00, 5.13730e+00],\n",
       "       [2.60000e+02, 2.75000e+01, 2.89000e+01, 7.16720e+00, 4.33500e+00],\n",
       "       [2.65000e+02, 2.75000e+01, 2.89000e+01, 7.05160e+00, 4.33500e+00],\n",
       "       [2.50000e+02, 2.75000e+01, 2.89000e+01, 7.28280e+00, 4.56620e+00],\n",
       "       [2.50000e+02, 2.80000e+01, 2.94000e+01, 7.82040e+00, 4.20420e+00],\n",
       "       [3.00000e+02, 2.87000e+01, 3.01000e+01, 7.58520e+00, 4.63540e+00],\n",
       "       [3.20000e+02, 3.00000e+01, 3.16000e+01, 7.61560e+00, 4.77160e+00],\n",
       "       [5.14000e+02, 3.28000e+01, 3.40000e+01, 1.00300e+01, 6.01800e+00],\n",
       "       [5.56000e+02, 3.45000e+01, 3.65000e+01, 1.02565e+01, 6.38750e+00],\n",
       "       [8.40000e+02, 3.50000e+01, 3.73000e+01, 1.14884e+01, 7.79570e+00],\n",
       "       [6.85000e+02, 3.65000e+01, 3.90000e+01, 1.08810e+01, 6.86400e+00],\n",
       "       [7.00000e+02, 3.60000e+01, 3.83000e+01, 1.06091e+01, 6.74080e+00],\n",
       "       [7.00000e+02, 3.70000e+01, 3.94000e+01, 1.08350e+01, 6.26460e+00],\n",
       "       [6.90000e+02, 3.70000e+01, 3.93000e+01, 1.05717e+01, 6.36660e+00],\n",
       "       [9.00000e+02, 3.90000e+01, 4.14000e+01, 1.11366e+01, 7.49340e+00],\n",
       "       [6.50000e+02, 3.90000e+01, 4.14000e+01, 1.11366e+01, 6.00300e+00],\n",
       "       [8.20000e+02, 3.90000e+01, 4.13000e+01, 1.24313e+01, 7.35140e+00],\n",
       "       [8.50000e+02, 4.00000e+01, 4.23000e+01, 1.19286e+01, 7.10640e+00],\n",
       "       [9.00000e+02, 4.00000e+01, 4.25000e+01, 1.17300e+01, 7.22500e+00],\n",
       "       [1.01500e+03, 4.00000e+01, 4.24000e+01, 1.23808e+01, 7.46240e+00],\n",
       "       [8.20000e+02, 4.00000e+01, 4.25000e+01, 1.11350e+01, 6.63000e+00],\n",
       "       [1.10000e+03, 4.20000e+01, 4.46000e+01, 1.28002e+01, 6.86840e+00],\n",
       "       [1.00000e+03, 4.30000e+01, 4.52000e+01, 1.19328e+01, 7.27720e+00],\n",
       "       [1.10000e+03, 4.30000e+01, 4.55000e+01, 1.25125e+01, 7.41650e+00],\n",
       "       [1.00000e+03, 4.35000e+01, 4.60000e+01, 1.26040e+01, 8.14200e+00],\n",
       "       [1.00000e+03, 4.40000e+01, 4.66000e+01, 1.24888e+01, 7.59580e+00],\n",
       "       [2.00000e+02, 3.23000e+01, 3.48000e+01, 5.56800e+00, 3.37560e+00],\n",
       "       [3.00000e+02, 3.40000e+01, 3.78000e+01, 5.70780e+00, 4.15800e+00],\n",
       "       [3.00000e+02, 3.50000e+01, 3.88000e+01, 5.93640e+00, 4.38440e+00],\n",
       "       [3.00000e+02, 3.73000e+01, 3.98000e+01, 6.28840e+00, 4.01980e+00],\n",
       "       [4.30000e+02, 3.80000e+01, 4.05000e+01, 7.29000e+00, 4.57650e+00],\n",
       "       [3.45000e+02, 3.85000e+01, 4.10000e+01, 6.39600e+00, 3.97700e+00],\n",
       "       [4.56000e+02, 4.25000e+01, 4.55000e+01, 7.28000e+00, 4.32250e+00],\n",
       "       [5.10000e+02, 4.25000e+01, 4.55000e+01, 6.82500e+00, 4.45900e+00],\n",
       "       [5.40000e+02, 4.30000e+01, 4.58000e+01, 7.78600e+00, 5.12960e+00],\n",
       "       [5.00000e+02, 4.50000e+01, 4.80000e+01, 6.96000e+00, 4.89600e+00],\n",
       "       [5.67000e+02, 4.60000e+01, 4.87000e+01, 7.79200e+00, 4.87000e+00],\n",
       "       [7.70000e+02, 4.80000e+01, 5.12000e+01, 7.68000e+00, 5.37600e+00],\n",
       "       [9.50000e+02, 5.17000e+01, 5.51000e+01, 8.92620e+00, 6.17120e+00],\n",
       "       [1.25000e+03, 5.60000e+01, 5.97000e+01, 1.06863e+01, 6.98490e+00],\n",
       "       [1.60000e+03, 6.00000e+01, 6.40000e+01, 9.60000e+00, 6.14400e+00],\n",
       "       [1.55000e+03, 6.00000e+01, 6.40000e+01, 9.60000e+00, 6.14400e+00],\n",
       "       [1.65000e+03, 6.34000e+01, 6.80000e+01, 1.08120e+01, 7.48000e+00],\n",
       "       [6.70000e+00, 9.80000e+00, 1.08000e+01, 1.73880e+00, 1.04760e+00],\n",
       "       [7.50000e+00, 1.05000e+01, 1.16000e+01, 1.97200e+00, 1.16000e+00],\n",
       "       [7.00000e+00, 1.06000e+01, 1.16000e+01, 1.72840e+00, 1.14840e+00],\n",
       "       [9.70000e+00, 1.10000e+01, 1.20000e+01, 2.19600e+00, 1.38000e+00],\n",
       "       [9.80000e+00, 1.12000e+01, 1.24000e+01, 2.08320e+00, 1.27720e+00],\n",
       "       [8.70000e+00, 1.13000e+01, 1.26000e+01, 1.97820e+00, 1.28520e+00],\n",
       "       [1.00000e+01, 1.18000e+01, 1.31000e+01, 2.21390e+00, 1.28380e+00],\n",
       "       [9.90000e+00, 1.18000e+01, 1.31000e+01, 2.21390e+00, 1.16590e+00],\n",
       "       [9.80000e+00, 1.20000e+01, 1.32000e+01, 2.20440e+00, 1.14840e+00],\n",
       "       [1.22000e+01, 1.22000e+01, 1.34000e+01, 2.09040e+00, 1.39360e+00],\n",
       "       [1.34000e+01, 1.24000e+01, 1.35000e+01, 2.43000e+00, 1.26900e+00],\n",
       "       [1.22000e+01, 1.30000e+01, 1.38000e+01, 2.27700e+00, 1.25580e+00],\n",
       "       [1.97000e+01, 1.43000e+01, 1.52000e+01, 2.87280e+00, 2.06720e+00],\n",
       "       [1.99000e+01, 1.50000e+01, 1.62000e+01, 2.93220e+00, 1.87920e+00]])"
      ]
     },
     "execution_count": 20,
     "metadata": {},
     "output_type": "execute_result"
    }
   ],
   "source": [
    "fish_data"
   ]
  },
  {
   "cell_type": "code",
   "execution_count": 21,
   "id": "fa8a251f",
   "metadata": {},
   "outputs": [
    {
     "data": {
      "text/plain": [
       "Index(['Species', 'Weight', 'Length', 'Diagonal', 'Height', 'Width'], dtype='object')"
      ]
     },
     "execution_count": 21,
     "metadata": {},
     "output_type": "execute_result"
    }
   ],
   "source": [
    "fish.columns"
   ]
  },
  {
   "cell_type": "markdown",
   "id": "6a904729",
   "metadata": {},
   "source": [
    "fish_data2=fish['Species', 'Weight', 'Length', 'Diagonal', 'Height', 'Width'].to_nupy"
   ]
  },
  {
   "cell_type": "code",
   "execution_count": 24,
   "id": "ea99ffa5",
   "metadata": {},
   "outputs": [],
   "source": [
    "fish_taget=fish['Species'].to_numpy()"
   ]
  },
  {
   "cell_type": "code",
   "execution_count": 25,
   "id": "86535e5c",
   "metadata": {},
   "outputs": [],
   "source": [
    "from sklearn.model_selection import train_test_split\n",
    "X_train,X_test,Y_train,Ytest=train_test_split(fish_data,fish_taget,random_state=42)"
   ]
  },
  {
   "cell_type": "code",
   "execution_count": 26,
   "id": "ca20e91d",
   "metadata": {},
   "outputs": [],
   "source": [
    "# 표준화\n",
    "from sklearn.preprocessing import StandardScaler\n",
    "ss=StandardScaler()\n",
    "ss.fit(X_train)\n",
    "train_scaled=ss.transform(X_train)\n",
    "test_scaled=ss.transform(X_test)"
   ]
  },
  {
   "cell_type": "markdown",
   "id": "5717b741",
   "metadata": {},
   "source": [
    "# 1.2 k-최근접 이웃분류기의 확률예측"
   ]
  },
  {
   "cell_type": "code",
   "execution_count": 29,
   "id": "56418602",
   "metadata": {},
   "outputs": [
    {
     "name": "stdout",
     "output_type": "stream",
     "text": [
      "0.8907563025210085\n",
      "0.85\n"
     ]
    }
   ],
   "source": [
    "from sklearn.neighbors import KNeighborsClassifier\n",
    "kn=KNeighborsClassifier(n_neighbors=3)\n",
    "kn.fit(train_scaled,Y_train)\n",
    "print(kn.score(train_scaled,Y_train))\n",
    "print(kn.score(test_scaled,Ytest))"
   ]
  },
  {
   "cell_type": "code",
   "execution_count": 30,
   "id": "27f95841",
   "metadata": {},
   "outputs": [
    {
     "data": {
      "text/plain": [
       "array(['Bream', 'Parkki', 'Perch', 'Pike', 'Roach', 'Smelt', 'Whitefish'],\n",
       "      dtype=object)"
      ]
     },
     "execution_count": 30,
     "metadata": {},
     "output_type": "execute_result"
    }
   ],
   "source": [
    "kn.classes_#공부하고난다음 시스템에서 변환해"
   ]
  },
  {
   "cell_type": "code",
   "execution_count": 31,
   "id": "359e0afd",
   "metadata": {},
   "outputs": [
    {
     "data": {
      "text/plain": [
       "array([[-0.88741352, -0.91804565, -1.03098914, -0.90464451, -0.80762518],\n",
       "       [-1.06924656, -1.50842035, -1.54345461, -1.58849582, -1.93803151],\n",
       "       [-0.54401367,  0.35641402,  0.30663259, -0.8135697 , -0.65388895],\n",
       "       [-0.34698097, -0.23396068, -0.22320459, -0.11905019, -0.12233464],\n",
       "       [-0.68475132, -0.51509149, -0.58801052, -0.8998784 , -0.50124996]])"
      ]
     },
     "execution_count": 31,
     "metadata": {},
     "output_type": "execute_result"
    }
   ],
   "source": [
    "test_scaled[:5]"
   ]
  },
  {
   "cell_type": "code",
   "execution_count": 32,
   "id": "75a406c2",
   "metadata": {},
   "outputs": [
    {
     "name": "stdout",
     "output_type": "stream",
     "text": [
      "['Perch' 'Smelt' 'Pike' 'Perch' 'Perch']\n"
     ]
    }
   ],
   "source": [
    "print(kn.predict(test_scaled[:5]))"
   ]
  },
  {
   "cell_type": "code",
   "execution_count": 33,
   "id": "54cd8518",
   "metadata": {},
   "outputs": [
    {
     "name": "stdout",
     "output_type": "stream",
     "text": [
      "[[0.     0.     1.     0.     0.     0.     0.    ]\n",
      " [0.     0.     0.     0.     0.     1.     0.    ]\n",
      " [0.     0.     0.     1.     0.     0.     0.    ]\n",
      " [0.     0.     0.6667 0.     0.3333 0.     0.    ]\n",
      " [0.     0.     0.6667 0.     0.3333 0.     0.    ]]\n"
     ]
    }
   ],
   "source": [
    "import numpy as np\n",
    "proba=kn.predict_proba(test_scaled[:5]) #praba 은  검증된 증빙되\n",
    "print(np.round(proba,decimals=4))"
   ]
  },
  {
   "cell_type": "markdown",
   "id": "c69fa96f",
   "metadata": {},
   "source": [
    "# 2.0 로지스틱 회귀"
   ]
  },
  {
   "cell_type": "code",
   "execution_count": 34,
   "id": "6b3a221e",
   "metadata": {},
   "outputs": [
    {
     "data": {
      "text/plain": [
       "[<matplotlib.lines.Line2D at 0x2047138c7c0>]"
      ]
     },
     "execution_count": 34,
     "metadata": {},
     "output_type": "execute_result"
    },
    {
     "data": {
      "image/png": "[encoded data removed]",
      "text/plain": [
       "<Figure size 432x288 with 1 Axes>"
      ]
     },
     "metadata": {
      "needs_background": "light"
     },
     "output_type": "display_data"
    }
   ],
   "source": [
    "import numpy as np\n",
    "import matplotlib.pyplot as plt\n",
    "z=np.arange(-5,5,0.1)\n",
    "phi=1/(1 + np.exp(-z))\n",
    "plt.plot(z,phi)\n",
    "#선형그래프"
   ]
  },
  {
   "cell_type": "markdown",
   "id": "d58783c2",
   "metadata": {},
   "source": [
    "# 2.1로지스틱회귀로 이진분류수행하기"
   ]
  },
  {
   "cell_type": "code",
   "execution_count": 36,
   "id": "162c605d",
   "metadata": {},
   "outputs": [
    {
     "name": "stdout",
     "output_type": "stream",
     "text": [
      "['A' 'C']\n"
     ]
    }
   ],
   "source": [
    "char_arr=np.array([\"A\",\"B\",\"C\",\"D\",\"E\"])\n",
    "print(char_arr[[True,False,True,False,False]])"
   ]
  },
  {
   "cell_type": "code",
   "execution_count": 50,
   "id": "ff464d4e",
   "metadata": {},
   "outputs": [
    {
     "data": {
      "text/plain": [
       "array([ True, False,  True, False, False, False, False,  True, False,\n",
       "       False, False,  True, False, False, False,  True,  True, False,\n",
       "       False,  True, False,  True, False, False, False,  True, False,\n",
       "       False,  True, False, False, False, False,  True, False, False,\n",
       "        True,  True, False, False, False, False, False,  True, False,\n",
       "       False, False, False, False,  True, False,  True, False, False,\n",
       "        True, False, False, False,  True, False, False, False, False,\n",
       "       False, False,  True, False,  True, False, False, False, False,\n",
       "       False, False, False, False, False,  True, False,  True, False,\n",
       "       False,  True,  True, False, False, False,  True, False, False,\n",
       "       False, False, False,  True, False, False, False,  True, False,\n",
       "        True, False, False,  True,  True, False, False, False, False,\n",
       "       False, False, False, False,  True,  True, False, False,  True,\n",
       "       False, False])"
      ]
     },
     "execution_count": 50,
     "metadata": {},
     "output_type": "execute_result"
    }
   ],
   "source": [
    "baemam_smelt_indexes=(Y_train==\"Bream\")|(Y_train==\"Smelt\")\n",
    "baemam_smelt_indexes"
   ]
  },
  {
   "cell_type": "code",
   "execution_count": 51,
   "id": "25722271",
   "metadata": {},
   "outputs": [],
   "source": [
    "X_train_bream_smelt=train_scaled[baemam_smelt_indexes]\n",
    "Y_train_bream_smelt=Y_train[baemam_smelt_indexes]"
   ]
  },
  {
   "cell_type": "code",
   "execution_count": 53,
   "id": "4460fa2d",
   "metadata": {},
   "outputs": [
    {
     "name": "stderr",
     "output_type": "stream",
     "text": [
      "[Parallel(n_jobs=1)]: Using backend SequentialBackend with 1 concurrent workers.\n",
      "[Parallel(n_jobs=1)]: Done   1 out of   1 | elapsed:    0.0s finished\n"
     ]
    },
    {
     "data": {
      "text/html": [
       "<style>#sk-container-id-2 {color: black;background-color: white;}#sk-container-id-2 pre{padding: 0;}#sk-container-id-2 div.sk-toggleable {background-color: white;}#sk-container-id-2 label.sk-toggleable__label {cursor: pointer;display: block;width: 100%;margin-bottom: 0;padding: 0.3em;box-sizing: border-box;text-align: center;}#sk-container-id-2 label.sk-toggleable__label-arrow:before {content: \"▸\";float: left;margin-right: 0.25em;color: #696969;}#sk-container-id-2 label.sk-toggleable__label-arrow:hover:before {color: black;}#sk-container-id-2 div.sk-estimator:hover label.sk-toggleable__label-arrow:before {color: black;}#sk-container-id-2 div.sk-toggleable__content {max-height: 0;max-width: 0;overflow: hidden;text-align: left;background-color: #f0f8ff;}#sk-container-id-2 div.sk-toggleable__content pre {margin: 0.2em;color: black;border-radius: 0.25em;background-color: #f0f8ff;}#sk-container-id-2 input.sk-toggleable__control:checked~div.sk-toggleable__content {max-height: 200px;max-width: 100%;overflow: auto;}#sk-container-id-2 input.sk-toggleable__control:checked~label.sk-toggleable__label-arrow:before {content: \"▾\";}#sk-container-id-2 div.sk-estimator input.sk-toggleable__control:checked~label.sk-toggleable__label {background-color: #d4ebff;}#sk-container-id-2 div.sk-label input.sk-toggleable__control:checked~label.sk-toggleable__label {background-color: #d4ebff;}#sk-container-id-2 input.sk-hidden--visually {border: 0;clip: rect(1px 1px 1px 1px);clip: rect(1px, 1px, 1px, 1px);height: 1px;margin: -1px;overflow: hidden;padding: 0;position: absolute;width: 1px;}#sk-container-id-2 div.sk-estimator {font-family: monospace;background-color: #f0f8ff;border: 1px dotted black;border-radius: 0.25em;box-sizing: border-box;margin-bottom: 0.5em;}#sk-container-id-2 div.sk-estimator:hover {background-color: #d4ebff;}#sk-container-id-2 div.sk-parallel-item::after {content: \"\";width: 100%;border-bottom: 1px solid gray;flex-grow: 1;}#sk-container-id-2 div.sk-label:hover label.sk-toggleable__label {background-color: #d4ebff;}#sk-container-id-2 div.sk-serial::before {content: \"\";position: absolute;border-left: 1px solid gray;box-sizing: border-box;top: 0;bottom: 0;left: 50%;z-index: 0;}#sk-container-id-2 div.sk-serial {display: flex;flex-direction: column;align-items: center;background-color: white;padding-right: 0.2em;padding-left: 0.2em;position: relative;}#sk-container-id-2 div.sk-item {position: relative;z-index: 1;}#sk-container-id-2 div.sk-parallel {display: flex;align-items: stretch;justify-content: center;background-color: white;position: relative;}#sk-container-id-2 div.sk-item::before, #sk-container-id-2 div.sk-parallel-item::before {content: \"\";position: absolute;border-left: 1px solid gray;box-sizing: border-box;top: 0;bottom: 0;left: 50%;z-index: -1;}#sk-container-id-2 div.sk-parallel-item {display: flex;flex-direction: column;z-index: 1;position: relative;background-color: white;}#sk-container-id-2 div.sk-parallel-item:first-child::after {align-self: flex-end;width: 50%;}#sk-container-id-2 div.sk-parallel-item:last-child::after {align-self: flex-start;width: 50%;}#sk-container-id-2 div.sk-parallel-item:only-child::after {width: 0;}#sk-container-id-2 div.sk-dashed-wrapped {border: 1px dashed gray;margin: 0 0.4em 0.5em 0.4em;box-sizing: border-box;padding-bottom: 0.4em;background-color: white;}#sk-container-id-2 div.sk-label label {font-family: monospace;font-weight: bold;display: inline-block;line-height: 1.2em;}#sk-container-id-2 div.sk-label-container {text-align: center;}#sk-container-id-2 div.sk-container {/* jupyter's `normalize.less` sets `[hidden] { display: none; }` but bootstrap.min.css set `[hidden] { display: none !important; }` so we also need the `!important` here to be able to override the default hidden behavior on the sphinx rendered scikit-learn.org. See: https://github.com/scikit-learn/scikit-learn/issues/21755 */display: inline-block !important;position: relative;}#sk-container-id-2 div.sk-text-repr-fallback {display: none;}</style><div id=\"sk-container-id-2\" class=\"sk-top-container\"><div class=\"sk-text-repr-fallback\"><pre>LogisticRegression(verbose=1)</pre><b>In a Jupyter environment, please rerun this cell to show the HTML representation or trust the notebook. <br />On GitHub, the HTML representation is unable to render, please try loading this page with nbviewer.org.</b></div><div class=\"sk-container\" hidden><div class=\"sk-item\"><div class=\"sk-estimator sk-toggleable\"><input class=\"sk-toggleable__control sk-hidden--visually\" id=\"sk-estimator-id-2\" type=\"checkbox\" checked><label for=\"sk-estimator-id-2\" class=\"sk-toggleable__label sk-toggleable__label-arrow\">LogisticRegression</label><div class=\"sk-toggleable__content\"><pre>LogisticRegression(verbose=1)</pre></div></div></div></div></div>"
      ],
      "text/plain": [
       "LogisticRegression(verbose=1)"
      ]
     },
     "execution_count": 53,
     "metadata": {},
     "output_type": "execute_result"
    }
   ],
   "source": [
    "from sklearn.linear_model import LogisticRegression\n",
    "lr=LogisticRegression(verbose=1)\n",
    "lr.fit(X_train_bream_smelt,Y_train_bream_smelt)"
   ]
  },
  {
   "cell_type": "code",
   "execution_count": 54,
   "id": "a7782e14",
   "metadata": {},
   "outputs": [
    {
     "name": "stdout",
     "output_type": "stream",
     "text": [
      "['Bream' 'Smelt' 'Bream' 'Bream' 'Bream']\n"
     ]
    }
   ],
   "source": [
    "print(lr.predict(X_train_bream_smelt[:5]))"
   ]
  },
  {
   "cell_type": "code",
   "execution_count": 56,
   "id": "4a86aea1",
   "metadata": {},
   "outputs": [
    {
     "name": "stdout",
     "output_type": "stream",
     "text": [
      "[[0.99759855 0.00240145]\n",
      " [0.02735183 0.97264817]\n",
      " [0.99486072 0.00513928]\n",
      " [0.98584202 0.01415798]\n",
      " [0.99767269 0.00232731]]\n"
     ]
    }
   ],
   "source": [
    "print(lr.predict_proba(X_train_bream_smelt[:5]))"
   ]
  },
  {
   "cell_type": "code",
   "execution_count": 58,
   "id": "c1cddd7b",
   "metadata": {},
   "outputs": [
    {
     "name": "stdout",
     "output_type": "stream",
     "text": [
      "['Bream' 'Smelt']\n"
     ]
    }
   ],
   "source": [
    "print(lr.classes_)"
   ]
  },
  {
   "cell_type": "code",
   "execution_count": 61,
   "id": "43641203",
   "metadata": {},
   "outputs": [
    {
     "name": "stdout",
     "output_type": "stream",
     "text": [
      "기울기 [[-0.4037798  -0.57620209 -0.66280298 -1.01290277 -0.73168947]] \n",
      " 절편(편향) [-2.16155132]\n"
     ]
    }
   ],
   "source": [
    "print(\"기울기\",lr.coef_,\"\\n\",\"절편(편향)\",lr.intercept_)"
   ]
  },
  {
   "cell_type": "markdown",
   "id": "64f13986",
   "metadata": {},
   "source": [
    "# 2.2 로지스틱 회귀로 다중분류"
   ]
  },
  {
   "cell_type": "code",
   "execution_count": 62,
   "id": "b0848ab7",
   "metadata": {},
   "outputs": [
    {
     "name": "stdout",
     "output_type": "stream",
     "text": [
      "0.9327731092436975\n",
      "0.925\n"
     ]
    }
   ],
   "source": [
    "lr=LogisticRegression(C=20,max_iter=1000) #규제가 클수로 작아진다\n",
    "lr.fit(train_scaled,Y_train)\n",
    "print(lr.score(train_scaled,Y_train))\n",
    "print(lr.score(test_scaled,Ytest))"
   ]
  },
  {
   "cell_type": "code",
   "execution_count": 63,
   "id": "929218eb",
   "metadata": {},
   "outputs": [
    {
     "name": "stdout",
     "output_type": "stream",
     "text": [
      "['Perch' 'Smelt' 'Pike' 'Roach' 'Perch']\n"
     ]
    }
   ],
   "source": [
    "print(lr.predict(test_scaled[:5]))"
   ]
  },
  {
   "cell_type": "code",
   "execution_count": 64,
   "id": "8624cae8",
   "metadata": {},
   "outputs": [
    {
     "name": "stdout",
     "output_type": "stream",
     "text": [
      "[[0.998 0.001 0.    0.    0.    0.    0.002]\n",
      " [0.    0.    0.001 0.999 0.    0.    0.   ]\n",
      " [0.    0.002 0.051 0.    0.006 0.941 0.   ]\n",
      " [0.    0.001 0.86  0.001 0.135 0.    0.004]\n",
      " [0.009 0.783 0.007 0.    0.187 0.    0.014]]\n"
     ]
    }
   ],
   "source": [
    "prba=lr.predict_proba(train_scaled[:5])\n",
    "print(np.round(prba,decimals=3))"
   ]
  },
  {
   "cell_type": "code",
   "execution_count": 66,
   "id": "9f42ab7a",
   "metadata": {},
   "outputs": [
    {
     "name": "stdout",
     "output_type": "stream",
     "text": [
      "['Bream' 'Parkki' 'Perch' 'Pike' 'Roach' 'Smelt' 'Whitefish']\n"
     ]
    }
   ],
   "source": [
    "print(lr.classes_)"
   ]
  },
  {
   "cell_type": "code",
   "execution_count": 67,
   "id": "75b35d4b",
   "metadata": {},
   "outputs": [
    {
     "name": "stdout",
     "output_type": "stream",
     "text": [
      "기울기 [[-1.48986217 -1.02993738  2.59442523  7.70317852 -1.20029196]\n",
      " [ 0.19634317 -2.00935252 -3.78045585  6.50474233 -1.99514592]\n",
      " [ 3.56250912  6.34406973 -8.4900971  -5.75745418  3.79323748]\n",
      " [-0.1050809   3.60284123  3.93066839 -3.61707744 -1.75102734]\n",
      " [-1.40030385 -6.07531395  5.25937344 -0.87220402  1.86069287]\n",
      " [-1.38523809  1.49231584  1.39234448 -5.67720457 -4.4010109 ]\n",
      " [ 0.62163272 -2.32462296 -0.90625859  1.71601937  3.69354577]] \n",
      " 절편(편향) [-0.09220027 -0.26297954  3.25070805 -0.14650445  2.65466181 -6.78781452\n",
      "  1.38412892]\n"
     ]
    }
   ],
   "source": [
    "print(\"기울기\",lr.coef_,\"\\n\",\"절편(편향)\",lr.intercept_)"
   ]
  },
  {
   "cell_type": "code",
   "execution_count": null,
   "id": "4f1bfa17",
   "metadata": {},
   "outputs": [],
   "source": [
    "decision=lr.decision_function(test_scaled[:5])\n",
    "print(np.round(decision,decimals=2))"
   ]
  }
 ],
 "metadata": {
  "kernelspec": {
   "display_name": "Python 3 (ipykernel)",
   "language": "python",
   "name": "python3"
  },
  "language_info": {
   "codemirror_mode": {
    "name": "ipython",
    "version": 3
   },
   "file_extension": ".py",
   "mimetype": "text/x-python",
   "name": "python",
   "nbconvert_exporter": "python",
   "pygments_lexer": "ipython3",
   "version": "3.9.12"
  },
  "toc": {
   "base_numbering": 1,
   "nav_menu": {},
   "number_sections": false,
   "sideBar": true,
   "skip_h1_title": false,
   "title_cell": "Table of Contents",
   "title_sidebar": "Contents",
   "toc_cell": false,
   "toc_position": {},
   "toc_section_display": true,
   "toc_window_display": false
  },
  "varInspector": {
   "cols": {
    "lenName": 16,
    "lenType": 16,
    "lenVar": 40
   },
   "kernels_config": {
    "python": {
     "delete_cmd_postfix": "",
     "delete_cmd_prefix": "del ",
     "library": "var_list.py",
     "varRefreshCmd": "print(var_dic_list())"
    },
    "r": {
     "delete_cmd_postfix": ") ",
     "delete_cmd_prefix": "rm(",
     "library": "var_list.r",
     "varRefreshCmd": "cat(var_dic_list()) "
    }
   },
   "types_to_exclude": [
    "module",
    "function",
    "builtin_function_or_method",
    "instance",
    "_Feature"
   ],
   "window_display": false
  }
 },
 "nbformat": 4,
 "nbformat_minor": 5
}

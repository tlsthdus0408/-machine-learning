{
 "cells": [
  {
   "cell_type": "markdown",
   "id": "1dd300f2",
   "metadata": {},
   "source": [
    "# 1. 교차 검증과 그리드서치\n"
   ]
  },
  {
   "cell_type": "markdown",
   "id": "47f25009",
   "metadata": {},
   "source": [
    "# 1.1 검증세트"
   ]
  },
  {
   "cell_type": "code",
   "execution_count": 1,
   "id": "188c51c3",
   "metadata": {},
   "outputs": [],
   "source": [
    "import pandas as pd\n",
    "wine = pd.read_csv('https://bit.ly/wine_csv_data')"
   ]
  },
  {
   "cell_type": "code",
   "execution_count": 2,
   "id": "f1832763",
   "metadata": {},
   "outputs": [],
   "source": [
    "X_data=wine.drop([\"class\"],axis=1).to_numpy() #X_data=wine[[\"alcohol\",\"sugar\",0\"pH\"]]\n",
    "Y_data=wine[\"class\"].to_numpy()"
   ]
  },
  {
   "cell_type": "code",
   "execution_count": 3,
   "id": "74f32f36",
   "metadata": {},
   "outputs": [],
   "source": [
    "from sklearn.model_selection  import train_test_split\n",
    "X_train,X_test,Y_train,Y_test=train_test_split(X_data,Y_data,test_size=0.2,random_state=42)"
   ]
  },
  {
   "cell_type": "code",
   "execution_count": 4,
   "id": "64d87967",
   "metadata": {},
   "outputs": [],
   "source": [
    "S_train,S_text,Z_train,Z_test=train_test_split(X_train,Y_train,test_size=0.2,random_state=42)"
   ]
  },
  {
   "cell_type": "code",
   "execution_count": 5,
   "id": "d499ef2b",
   "metadata": {},
   "outputs": [
    {
     "name": "stdout",
     "output_type": "stream",
     "text": [
      "(4157, 3) (1040,)\n"
     ]
    }
   ],
   "source": [
    "print(S_train.shape,Z_test.shape)"
   ]
  },
  {
   "cell_type": "code",
   "execution_count": 6,
   "id": "6ba540cc",
   "metadata": {},
   "outputs": [
    {
     "name": "stdout",
     "output_type": "stream",
     "text": [
      "0.9971133028626413\n",
      "0.8653846153846154\n"
     ]
    }
   ],
   "source": [
    "from sklearn.tree import DecisionTreeClassifier\n",
    "dt=DecisionTreeClassifier()\n",
    "dt.fit(S_train,Z_train)\n",
    "print(dt.score(S_train,Z_train))\n",
    "print(dt.score(S_text,Z_test))"
   ]
  },
  {
   "cell_type": "markdown",
   "id": "8806b78c",
   "metadata": {},
   "source": [
    "# 1.2 교차검증"
   ]
  },
  {
   "cell_type": "code",
   "execution_count": 8,
   "id": "212beeaa",
   "metadata": {},
   "outputs": [
    {
     "name": "stdout",
     "output_type": "stream",
     "text": [
      "{'fit_time': array([0.00698042, 0.00615978, 0.        , 0.01170588, 0.        ]), 'score_time': array([0.0009973, 0.       , 0.       , 0.       , 0.       ]), 'test_score': array([0.86730769, 0.85384615, 0.87391723, 0.85466795, 0.84215592])}\n"
     ]
    }
   ],
   "source": [
    "from sklearn.model_selection import cross_validate\n",
    "scores=cross_validate(dt,X_train,Y_train)\n",
    "print(scores)"
   ]
  },
  {
   "cell_type": "code",
   "execution_count": 9,
   "id": "6f1ae7bd",
   "metadata": {},
   "outputs": [
    {
     "name": "stdout",
     "output_type": "stream",
     "text": [
      "0.8583789886725401\n"
     ]
    }
   ],
   "source": [
    "import numpy as np\n",
    "print(np.mean(scores[\"test_score\"]))"
   ]
  },
  {
   "cell_type": "markdown",
   "id": "45771ff6",
   "metadata": {},
   "source": [
    "# 분할기를 사용한 교차검증"
   ]
  },
  {
   "cell_type": "code",
   "execution_count": 10,
   "id": "8844c1fb",
   "metadata": {},
   "outputs": [
    {
     "name": "stdout",
     "output_type": "stream",
     "text": [
      "0.8574178203894277\n"
     ]
    }
   ],
   "source": [
    "\n",
    "from sklearn.model_selection import StratifiedKFold\n",
    "scores=cross_validate(dt,X_train,Y_train)\n",
    "print(np.mean(scores[\"test_score\"]))"
   ]
  },
  {
   "cell_type": "code",
   "execution_count": 11,
   "id": "f0b500f2",
   "metadata": {},
   "outputs": [
    {
     "name": "stdout",
     "output_type": "stream",
     "text": [
      "0.857224587251055\n"
     ]
    }
   ],
   "source": [
    "splitters=StratifiedKFold(n_splits=10,shuffle=True,random_state=42)\n",
    "scores=cross_validate(dt,X_train,Y_train)\n",
    "print(np.mean(scores[\"test_score\"]))"
   ]
  },
  {
   "cell_type": "markdown",
   "id": "f9fcfb87",
   "metadata": {},
   "source": [
    "# 3. 하이퍼라미터 튜닝"
   ]
  },
  {
   "cell_type": "code",
   "execution_count": 13,
   "id": "b3ae897b",
   "metadata": {},
   "outputs": [],
   "source": [
    "from sklearn.model_selection import GridSearchCV\n",
    "params={'min_impurity_decrease':[0.0001,0.0002,0.0003,0.0004,0.00005]}"
   ]
  },
  {
   "cell_type": "code",
   "execution_count": 14,
   "id": "f6faf42e",
   "metadata": {},
   "outputs": [],
   "source": [
    "gs=GridSearchCV(DecisionTreeClassifier(random_state=42),params,n_jobs=-1)"
   ]
  },
  {
   "cell_type": "markdown",
   "id": "f5bd6aba",
   "metadata": {},
   "source": [
    "for params in[0.0001,0.0002,0.0003,0.0004,0.00005]:\n",
    "    gs=GridSearchCV(DecisionTreeClassifier(random_state=42),params,n_jobs=-1)\n",
    "    gs.fit(X_train,Y_train)\n",
    "    socres=gs.score(X_train,Y_train)\n",
    "    print(scores)"
   ]
  },
  {
   "cell_type": "code",
   "execution_count": null,
   "id": "318410fa",
   "metadata": {},
   "outputs": [],
   "source": [
    "for 0.001,00.001"
   ]
  },
  {
   "cell_type": "code",
   "execution_count": 15,
   "id": "c2b6686d",
   "metadata": {},
   "outputs": [
    {
     "data": {
      "text/html": [
       "<style>#sk-container-id-1 {color: black;background-color: white;}#sk-container-id-1 pre{padding: 0;}#sk-container-id-1 div.sk-toggleable {background-color: white;}#sk-container-id-1 label.sk-toggleable__label {cursor: pointer;display: block;width: 100%;margin-bottom: 0;padding: 0.3em;box-sizing: border-box;text-align: center;}#sk-container-id-1 label.sk-toggleable__label-arrow:before {content: \"▸\";float: left;margin-right: 0.25em;color: #696969;}#sk-container-id-1 label.sk-toggleable__label-arrow:hover:before {color: black;}#sk-container-id-1 div.sk-estimator:hover label.sk-toggleable__label-arrow:before {color: black;}#sk-container-id-1 div.sk-toggleable__content {max-height: 0;max-width: 0;overflow: hidden;text-align: left;background-color: #f0f8ff;}#sk-container-id-1 div.sk-toggleable__content pre {margin: 0.2em;color: black;border-radius: 0.25em;background-color: #f0f8ff;}#sk-container-id-1 input.sk-toggleable__control:checked~div.sk-toggleable__content {max-height: 200px;max-width: 100%;overflow: auto;}#sk-container-id-1 input.sk-toggleable__control:checked~label.sk-toggleable__label-arrow:before {content: \"▾\";}#sk-container-id-1 div.sk-estimator input.sk-toggleable__control:checked~label.sk-toggleable__label {background-color: #d4ebff;}#sk-container-id-1 div.sk-label input.sk-toggleable__control:checked~label.sk-toggleable__label {background-color: #d4ebff;}#sk-container-id-1 input.sk-hidden--visually {border: 0;clip: rect(1px 1px 1px 1px);clip: rect(1px, 1px, 1px, 1px);height: 1px;margin: -1px;overflow: hidden;padding: 0;position: absolute;width: 1px;}#sk-container-id-1 div.sk-estimator {font-family: monospace;background-color: #f0f8ff;border: 1px dotted black;border-radius: 0.25em;box-sizing: border-box;margin-bottom: 0.5em;}#sk-container-id-1 div.sk-estimator:hover {background-color: #d4ebff;}#sk-container-id-1 div.sk-parallel-item::after {content: \"\";width: 100%;border-bottom: 1px solid gray;flex-grow: 1;}#sk-container-id-1 div.sk-label:hover label.sk-toggleable__label {background-color: #d4ebff;}#sk-container-id-1 div.sk-serial::before {content: \"\";position: absolute;border-left: 1px solid gray;box-sizing: border-box;top: 0;bottom: 0;left: 50%;z-index: 0;}#sk-container-id-1 div.sk-serial {display: flex;flex-direction: column;align-items: center;background-color: white;padding-right: 0.2em;padding-left: 0.2em;position: relative;}#sk-container-id-1 div.sk-item {position: relative;z-index: 1;}#sk-container-id-1 div.sk-parallel {display: flex;align-items: stretch;justify-content: center;background-color: white;position: relative;}#sk-container-id-1 div.sk-item::before, #sk-container-id-1 div.sk-parallel-item::before {content: \"\";position: absolute;border-left: 1px solid gray;box-sizing: border-box;top: 0;bottom: 0;left: 50%;z-index: -1;}#sk-container-id-1 div.sk-parallel-item {display: flex;flex-direction: column;z-index: 1;position: relative;background-color: white;}#sk-container-id-1 div.sk-parallel-item:first-child::after {align-self: flex-end;width: 50%;}#sk-container-id-1 div.sk-parallel-item:last-child::after {align-self: flex-start;width: 50%;}#sk-container-id-1 div.sk-parallel-item:only-child::after {width: 0;}#sk-container-id-1 div.sk-dashed-wrapped {border: 1px dashed gray;margin: 0 0.4em 0.5em 0.4em;box-sizing: border-box;padding-bottom: 0.4em;background-color: white;}#sk-container-id-1 div.sk-label label {font-family: monospace;font-weight: bold;display: inline-block;line-height: 1.2em;}#sk-container-id-1 div.sk-label-container {text-align: center;}#sk-container-id-1 div.sk-container {/* jupyter's `normalize.less` sets `[hidden] { display: none; }` but bootstrap.min.css set `[hidden] { display: none !important; }` so we also need the `!important` here to be able to override the default hidden behavior on the sphinx rendered scikit-learn.org. See: https://github.com/scikit-learn/scikit-learn/issues/21755 */display: inline-block !important;position: relative;}#sk-container-id-1 div.sk-text-repr-fallback {display: none;}</style><div id=\"sk-container-id-1\" class=\"sk-top-container\"><div class=\"sk-text-repr-fallback\"><pre>GridSearchCV(estimator=DecisionTreeClassifier(random_state=42), n_jobs=-1,\n",
       "             param_grid={&#x27;min_impurity_decrease&#x27;: [0.0001, 0.0002, 0.0003,\n",
       "                                                   0.0004, 5e-05]})</pre><b>In a Jupyter environment, please rerun this cell to show the HTML representation or trust the notebook. <br />On GitHub, the HTML representation is unable to render, please try loading this page with nbviewer.org.</b></div><div class=\"sk-container\" hidden><div class=\"sk-item sk-dashed-wrapped\"><div class=\"sk-label-container\"><div class=\"sk-label sk-toggleable\"><input class=\"sk-toggleable__control sk-hidden--visually\" id=\"sk-estimator-id-1\" type=\"checkbox\" ><label for=\"sk-estimator-id-1\" class=\"sk-toggleable__label sk-toggleable__label-arrow\">GridSearchCV</label><div class=\"sk-toggleable__content\"><pre>GridSearchCV(estimator=DecisionTreeClassifier(random_state=42), n_jobs=-1,\n",
       "             param_grid={&#x27;min_impurity_decrease&#x27;: [0.0001, 0.0002, 0.0003,\n",
       "                                                   0.0004, 5e-05]})</pre></div></div></div><div class=\"sk-parallel\"><div class=\"sk-parallel-item\"><div class=\"sk-item\"><div class=\"sk-label-container\"><div class=\"sk-label sk-toggleable\"><input class=\"sk-toggleable__control sk-hidden--visually\" id=\"sk-estimator-id-2\" type=\"checkbox\" ><label for=\"sk-estimator-id-2\" class=\"sk-toggleable__label sk-toggleable__label-arrow\">estimator: DecisionTreeClassifier</label><div class=\"sk-toggleable__content\"><pre>DecisionTreeClassifier(random_state=42)</pre></div></div></div><div class=\"sk-serial\"><div class=\"sk-item\"><div class=\"sk-estimator sk-toggleable\"><input class=\"sk-toggleable__control sk-hidden--visually\" id=\"sk-estimator-id-3\" type=\"checkbox\" ><label for=\"sk-estimator-id-3\" class=\"sk-toggleable__label sk-toggleable__label-arrow\">DecisionTreeClassifier</label><div class=\"sk-toggleable__content\"><pre>DecisionTreeClassifier(random_state=42)</pre></div></div></div></div></div></div></div></div></div></div>"
      ],
      "text/plain": [
       "GridSearchCV(estimator=DecisionTreeClassifier(random_state=42), n_jobs=-1,\n",
       "             param_grid={'min_impurity_decrease': [0.0001, 0.0002, 0.0003,\n",
       "                                                   0.0004, 5e-05]})"
      ]
     },
     "execution_count": 15,
     "metadata": {},
     "output_type": "execute_result"
    }
   ],
   "source": [
    "gs.fit(X_train,Y_train)"
   ]
  },
  {
   "cell_type": "code",
   "execution_count": 16,
   "id": "d3f0dec4",
   "metadata": {},
   "outputs": [
    {
     "name": "stdout",
     "output_type": "stream",
     "text": [
      "0.9615162593804117\n"
     ]
    }
   ],
   "source": [
    "dt=gs.best_estimator_\n",
    "print(dt.score(X_train,Y_train))"
   ]
  },
  {
   "cell_type": "code",
   "execution_count": 17,
   "id": "0766712c",
   "metadata": {},
   "outputs": [
    {
     "name": "stdout",
     "output_type": "stream",
     "text": [
      "DecisionTreeClassifier(min_impurity_decrease=0.0001, random_state=42)\n"
     ]
    }
   ],
   "source": [
    "print(gs.best_estimator_)"
   ]
  },
  {
   "cell_type": "code",
   "execution_count": 18,
   "id": "ba4fe7dd",
   "metadata": {},
   "outputs": [
    {
     "name": "stdout",
     "output_type": "stream",
     "text": [
      "{'min_impurity_decrease': 0.0001}\n"
     ]
    }
   ],
   "source": [
    "print(gs.best_params_)"
   ]
  },
  {
   "cell_type": "code",
   "execution_count": 19,
   "id": "326e8448",
   "metadata": {},
   "outputs": [
    {
     "name": "stdout",
     "output_type": "stream",
     "text": [
      "[0.86819297 0.86453617 0.86492226 0.86780891 0.86126527]\n"
     ]
    }
   ],
   "source": [
    "print(gs.cv_results_[\"mean_test_score\"])"
   ]
  },
  {
   "cell_type": "code",
   "execution_count": 20,
   "id": "89db706b",
   "metadata": {},
   "outputs": [],
   "source": [
    "best_index=np.argmax(gs.cv)"
   ]
  },
  {
   "cell_type": "code",
   "execution_count": 21,
   "id": "22267c13",
   "metadata": {},
   "outputs": [
    {
     "name": "stdout",
     "output_type": "stream",
     "text": [
      "[{'min_impurity_decrease': 0.0001}, {'min_impurity_decrease': 0.0002}, {'min_impurity_decrease': 0.0003}, {'min_impurity_decrease': 0.0004}, {'min_impurity_decrease': 5e-05}] [0]\n"
     ]
    }
   ],
   "source": [
    "best_index=np.argmax(gs.cv)\n",
    "print(gs.cv_results_[\"params\"],[best_index])"
   ]
  },
  {
   "cell_type": "code",
   "execution_count": 36,
   "id": "7e3afbbe",
   "metadata": {},
   "outputs": [],
   "source": [
    "params={'min_impurity_decrease':np.arange(0.0001,0.001,0.0001),\n",
    "         \"max_depth\":range(5,20,1), \n",
    "          \"min_samples_split\" :range(2,100,10)}"
   ]
  },
  {
   "cell_type": "code",
   "execution_count": 37,
   "id": "8c32c062",
   "metadata": {},
   "outputs": [],
   "source": [
    "gs=GridSearchCV(DecisionTreeClassifier(random_state=42),params,n_jobs=-1)"
   ]
  },
  {
   "cell_type": "code",
   "execution_count": 38,
   "id": "71455199",
   "metadata": {},
   "outputs": [
    {
     "data": {
      "text/html": [
       "<style>#sk-container-id-2 {color: black;background-color: white;}#sk-container-id-2 pre{padding: 0;}#sk-container-id-2 div.sk-toggleable {background-color: white;}#sk-container-id-2 label.sk-toggleable__label {cursor: pointer;display: block;width: 100%;margin-bottom: 0;padding: 0.3em;box-sizing: border-box;text-align: center;}#sk-container-id-2 label.sk-toggleable__label-arrow:before {content: \"▸\";float: left;margin-right: 0.25em;color: #696969;}#sk-container-id-2 label.sk-toggleable__label-arrow:hover:before {color: black;}#sk-container-id-2 div.sk-estimator:hover label.sk-toggleable__label-arrow:before {color: black;}#sk-container-id-2 div.sk-toggleable__content {max-height: 0;max-width: 0;overflow: hidden;text-align: left;background-color: #f0f8ff;}#sk-container-id-2 div.sk-toggleable__content pre {margin: 0.2em;color: black;border-radius: 0.25em;background-color: #f0f8ff;}#sk-container-id-2 input.sk-toggleable__control:checked~div.sk-toggleable__content {max-height: 200px;max-width: 100%;overflow: auto;}#sk-container-id-2 input.sk-toggleable__control:checked~label.sk-toggleable__label-arrow:before {content: \"▾\";}#sk-container-id-2 div.sk-estimator input.sk-toggleable__control:checked~label.sk-toggleable__label {background-color: #d4ebff;}#sk-container-id-2 div.sk-label input.sk-toggleable__control:checked~label.sk-toggleable__label {background-color: #d4ebff;}#sk-container-id-2 input.sk-hidden--visually {border: 0;clip: rect(1px 1px 1px 1px);clip: rect(1px, 1px, 1px, 1px);height: 1px;margin: -1px;overflow: hidden;padding: 0;position: absolute;width: 1px;}#sk-container-id-2 div.sk-estimator {font-family: monospace;background-color: #f0f8ff;border: 1px dotted black;border-radius: 0.25em;box-sizing: border-box;margin-bottom: 0.5em;}#sk-container-id-2 div.sk-estimator:hover {background-color: #d4ebff;}#sk-container-id-2 div.sk-parallel-item::after {content: \"\";width: 100%;border-bottom: 1px solid gray;flex-grow: 1;}#sk-container-id-2 div.sk-label:hover label.sk-toggleable__label {background-color: #d4ebff;}#sk-container-id-2 div.sk-serial::before {content: \"\";position: absolute;border-left: 1px solid gray;box-sizing: border-box;top: 0;bottom: 0;left: 50%;z-index: 0;}#sk-container-id-2 div.sk-serial {display: flex;flex-direction: column;align-items: center;background-color: white;padding-right: 0.2em;padding-left: 0.2em;position: relative;}#sk-container-id-2 div.sk-item {position: relative;z-index: 1;}#sk-container-id-2 div.sk-parallel {display: flex;align-items: stretch;justify-content: center;background-color: white;position: relative;}#sk-container-id-2 div.sk-item::before, #sk-container-id-2 div.sk-parallel-item::before {content: \"\";position: absolute;border-left: 1px solid gray;box-sizing: border-box;top: 0;bottom: 0;left: 50%;z-index: -1;}#sk-container-id-2 div.sk-parallel-item {display: flex;flex-direction: column;z-index: 1;position: relative;background-color: white;}#sk-container-id-2 div.sk-parallel-item:first-child::after {align-self: flex-end;width: 50%;}#sk-container-id-2 div.sk-parallel-item:last-child::after {align-self: flex-start;width: 50%;}#sk-container-id-2 div.sk-parallel-item:only-child::after {width: 0;}#sk-container-id-2 div.sk-dashed-wrapped {border: 1px dashed gray;margin: 0 0.4em 0.5em 0.4em;box-sizing: border-box;padding-bottom: 0.4em;background-color: white;}#sk-container-id-2 div.sk-label label {font-family: monospace;font-weight: bold;display: inline-block;line-height: 1.2em;}#sk-container-id-2 div.sk-label-container {text-align: center;}#sk-container-id-2 div.sk-container {/* jupyter's `normalize.less` sets `[hidden] { display: none; }` but bootstrap.min.css set `[hidden] { display: none !important; }` so we also need the `!important` here to be able to override the default hidden behavior on the sphinx rendered scikit-learn.org. See: https://github.com/scikit-learn/scikit-learn/issues/21755 */display: inline-block !important;position: relative;}#sk-container-id-2 div.sk-text-repr-fallback {display: none;}</style><div id=\"sk-container-id-2\" class=\"sk-top-container\"><div class=\"sk-text-repr-fallback\"><pre>GridSearchCV(estimator=DecisionTreeClassifier(random_state=42), n_jobs=-1,\n",
       "             param_grid={&#x27;max_depth&#x27;: range(5, 20),\n",
       "                         &#x27;min_impurity_decrease&#x27;: array([0.0001, 0.0002, 0.0003, 0.0004, 0.0005, 0.0006, 0.0007, 0.0008,\n",
       "       0.0009]),\n",
       "                         &#x27;min_samples_split&#x27;: range(2, 100, 10)})</pre><b>In a Jupyter environment, please rerun this cell to show the HTML representation or trust the notebook. <br />On GitHub, the HTML representation is unable to render, please try loading this page with nbviewer.org.</b></div><div class=\"sk-container\" hidden><div class=\"sk-item sk-dashed-wrapped\"><div class=\"sk-label-container\"><div class=\"sk-label sk-toggleable\"><input class=\"sk-toggleable__control sk-hidden--visually\" id=\"sk-estimator-id-4\" type=\"checkbox\" ><label for=\"sk-estimator-id-4\" class=\"sk-toggleable__label sk-toggleable__label-arrow\">GridSearchCV</label><div class=\"sk-toggleable__content\"><pre>GridSearchCV(estimator=DecisionTreeClassifier(random_state=42), n_jobs=-1,\n",
       "             param_grid={&#x27;max_depth&#x27;: range(5, 20),\n",
       "                         &#x27;min_impurity_decrease&#x27;: array([0.0001, 0.0002, 0.0003, 0.0004, 0.0005, 0.0006, 0.0007, 0.0008,\n",
       "       0.0009]),\n",
       "                         &#x27;min_samples_split&#x27;: range(2, 100, 10)})</pre></div></div></div><div class=\"sk-parallel\"><div class=\"sk-parallel-item\"><div class=\"sk-item\"><div class=\"sk-label-container\"><div class=\"sk-label sk-toggleable\"><input class=\"sk-toggleable__control sk-hidden--visually\" id=\"sk-estimator-id-5\" type=\"checkbox\" ><label for=\"sk-estimator-id-5\" class=\"sk-toggleable__label sk-toggleable__label-arrow\">estimator: DecisionTreeClassifier</label><div class=\"sk-toggleable__content\"><pre>DecisionTreeClassifier(random_state=42)</pre></div></div></div><div class=\"sk-serial\"><div class=\"sk-item\"><div class=\"sk-estimator sk-toggleable\"><input class=\"sk-toggleable__control sk-hidden--visually\" id=\"sk-estimator-id-6\" type=\"checkbox\" ><label for=\"sk-estimator-id-6\" class=\"sk-toggleable__label sk-toggleable__label-arrow\">DecisionTreeClassifier</label><div class=\"sk-toggleable__content\"><pre>DecisionTreeClassifier(random_state=42)</pre></div></div></div></div></div></div></div></div></div></div>"
      ],
      "text/plain": [
       "GridSearchCV(estimator=DecisionTreeClassifier(random_state=42), n_jobs=-1,\n",
       "             param_grid={'max_depth': range(5, 20),\n",
       "                         'min_impurity_decrease': array([0.0001, 0.0002, 0.0003, 0.0004, 0.0005, 0.0006, 0.0007, 0.0008,\n",
       "       0.0009]),\n",
       "                         'min_samples_split': range(2, 100, 10)})"
      ]
     },
     "execution_count": 38,
     "metadata": {},
     "output_type": "execute_result"
    }
   ],
   "source": [
    "gs.fit(X_train,Y_train)"
   ]
  },
  {
   "cell_type": "code",
   "execution_count": 39,
   "id": "06659b57",
   "metadata": {},
   "outputs": [
    {
     "name": "stdout",
     "output_type": "stream",
     "text": [
      "[0.85780355 0.85799604 0.85799604 ... 0.86126601 0.86165063 0.86357629]\n"
     ]
    }
   ],
   "source": [
    "print(gs.cv_results_[\"mean_test_score\"])"
   ]
  },
  {
   "cell_type": "code",
   "execution_count": 40,
   "id": "aa765728",
   "metadata": {},
   "outputs": [
    {
     "name": "stdout",
     "output_type": "stream",
     "text": [
      "{'max_depth': 14, 'min_impurity_decrease': 0.0004, 'min_samples_split': 12}\n"
     ]
    }
   ],
   "source": [
    "print(gs.best_params_)"
   ]
  },
  {
   "cell_type": "code",
   "execution_count": null,
   "id": "3134058e",
   "metadata": {},
   "outputs": [],
   "source": [
    "for x in[0.0001,0.001,0.0001]:\n",
    "    for y in range[5,20,1]:\n",
    "        forz in range[2,100,10]:\n",
    "            gs=GridSearchCV(DecisionTreeClassifier(random_state=42, )\n",
    "             "
   ]
  },
  {
   "cell_type": "markdown",
   "id": "5535329b",
   "metadata": {},
   "source": [
    "# 3.1 렌덤서치"
   ]
  },
  {
   "cell_type": "code",
   "execution_count": 45,
   "id": "90ab3577",
   "metadata": {},
   "outputs": [],
   "source": [
    "from scipy.stats import uniform,randint"
   ]
  },
  {
   "cell_type": "code",
   "execution_count": 50,
   "id": "bcc9f373",
   "metadata": {},
   "outputs": [
    {
     "data": {
      "text/plain": [
       "array([4, 8, 8, 1, 1, 4, 9, 8, 8, 7], dtype=int64)"
      ]
     },
     "execution_count": 50,
     "metadata": {},
     "output_type": "execute_result"
    }
   ],
   "source": [
    "rgen=randint(0,10)\n",
    "rgen.rvs(10)"
   ]
  },
  {
   "cell_type": "code",
   "execution_count": 49,
   "id": "64cd7874",
   "metadata": {},
   "outputs": [
    {
     "data": {
      "text/plain": [
       "(array([0, 1, 2, 3, 4, 5, 6, 7, 8, 9], dtype=int64),\n",
       " array([109, 105,  86, 111,  98,  93, 111, 101,  87,  99], dtype=int64))"
      ]
     },
     "execution_count": 49,
     "metadata": {},
     "output_type": "execute_result"
    }
   ],
   "source": [
    "np.unique(rgen.rvs(1000),return_counts=True)"
   ]
  },
  {
   "cell_type": "code",
   "execution_count": 51,
   "id": "edc821b7",
   "metadata": {},
   "outputs": [
    {
     "data": {
      "text/plain": [
       "(array([0.00188376, 0.00352134, 0.00523988, 0.00596797, 0.00633261,\n",
       "        0.00718219, 0.00902364, 0.00941144, 0.01019619, 0.01164517,\n",
       "        0.01203236, 0.01279333, 0.01607803, 0.01656046, 0.01805733,\n",
       "        0.01830918, 0.0186887 , 0.01902034, 0.02152247, 0.02160535,\n",
       "        0.02240942, 0.02291002, 0.02324311, 0.02593712, 0.02661669,\n",
       "        0.02766423, 0.02856043, 0.02958345, 0.02984717, 0.03038843,\n",
       "        0.03340183, 0.03408462, 0.03533167, 0.03575936, 0.03591815,\n",
       "        0.03667515, 0.03842815, 0.03861753, 0.03889302, 0.03896149,\n",
       "        0.04093002, 0.04164058, 0.04458099, 0.04904351, 0.04908112,\n",
       "        0.05147376, 0.05154941, 0.05219243, 0.05440942, 0.055066  ,\n",
       "        0.05509722, 0.05576944, 0.05672312, 0.05806526, 0.05928673,\n",
       "        0.05995409, 0.06054374, 0.06392121, 0.06392985, 0.06397327,\n",
       "        0.06679049, 0.06969494, 0.07011436, 0.07180952, 0.07256866,\n",
       "        0.0750875 , 0.07689671, 0.07729192, 0.07781086, 0.07816945,\n",
       "        0.07948922, 0.08093488, 0.08096394, 0.08171155, 0.08556117,\n",
       "        0.08639552, 0.08674025, 0.08832656, 0.08897962, 0.08904187,\n",
       "        0.08955374, 0.0901833 , 0.09147326, 0.09597128, 0.0970064 ,\n",
       "        0.09774693, 0.09941718, 0.0998504 , 0.10005174, 0.10164495,\n",
       "        0.10229879, 0.10234418, 0.10235144, 0.10308082, 0.10360043,\n",
       "        0.10582357, 0.10628462, 0.10652188, 0.10769033, 0.10778149,\n",
       "        0.11019168, 0.11715952, 0.11916506, 0.12048136, 0.12076478,\n",
       "        0.1208662 , 0.12259932, 0.12403148, 0.12520512, 0.12596725,\n",
       "        0.1286468 , 0.12930181, 0.12988206, 0.1315603 , 0.13265234,\n",
       "        0.13330142, 0.13343841, 0.13532726, 0.13608378, 0.1362913 ,\n",
       "        0.13678939, 0.13707913, 0.13759376, 0.13798369, 0.13841436,\n",
       "        0.13953144, 0.13954661, 0.13998327, 0.14146264, 0.14187659,\n",
       "        0.14269725, 0.1429057 , 0.14307693, 0.14417809, 0.14551658,\n",
       "        0.14582976, 0.14609125, 0.14782366, 0.15035819, 0.15225886,\n",
       "        0.15259329, 0.15453294, 0.15463911, 0.15819631, 0.15862295,\n",
       "        0.15960558, 0.15977322, 0.15998506, 0.16057581, 0.16174   ,\n",
       "        0.16409962, 0.16428214, 0.16452847, 0.16579916, 0.16736493,\n",
       "        0.16822093, 0.16953246, 0.1699558 , 0.17046063, 0.17058584,\n",
       "        0.17388396, 0.17546396, 0.17582472, 0.17676759, 0.17795238,\n",
       "        0.18039676, 0.18148071, 0.18284382, 0.18343208, 0.18370983,\n",
       "        0.18478834, 0.18504798, 0.18561935, 0.18721237, 0.18896889,\n",
       "        0.18900507, 0.19010116, 0.19094376, 0.19251734, 0.19511072,\n",
       "        0.19643817, 0.19701515, 0.19755969, 0.19791259, 0.19834434,\n",
       "        0.19908134, 0.19909294, 0.1998592 , 0.20079624, 0.20192875,\n",
       "        0.20284232, 0.20422817, 0.20494933, 0.20506802, 0.20620606,\n",
       "        0.2069774 , 0.20788133, 0.21213635, 0.21261916, 0.21374823,\n",
       "        0.21399059, 0.21560618, 0.21779127, 0.21986745, 0.22091856,\n",
       "        0.22271997, 0.22282328, 0.22389318, 0.22676604, 0.22712815,\n",
       "        0.22722025, 0.22747492, 0.22748197, 0.22819016, 0.22858284,\n",
       "        0.23003124, 0.23014737, 0.23161837, 0.23242237, 0.23243265,\n",
       "        0.2325509 , 0.23364625, 0.23459198, 0.23486264, 0.236842  ,\n",
       "        0.23756455, 0.23988952, 0.24040577, 0.24122054, 0.24213335,\n",
       "        0.24325212, 0.24577397, 0.24603064, 0.24615633, 0.24692561,\n",
       "        0.24741532, 0.2480754 , 0.24952573, 0.25022428, 0.25082981,\n",
       "        0.25371119, 0.25379526, 0.25454157, 0.25503387, 0.25542511,\n",
       "        0.25607584, 0.2564272 , 0.25662126, 0.25728955, 0.25852026,\n",
       "        0.25913079, 0.25921732, 0.26018633, 0.26180652, 0.26241408,\n",
       "        0.26264136, 0.26271425, 0.26500973, 0.26510062, 0.2655162 ,\n",
       "        0.26600096, 0.26782818, 0.26825592, 0.26886029, 0.26925992,\n",
       "        0.2697619 , 0.27165644, 0.27189904, 0.2720147 , 0.27325855,\n",
       "        0.27460504, 0.27525341, 0.27558228, 0.27675489, 0.27746931,\n",
       "        0.28055221, 0.28132724, 0.2832204 , 0.2836186 , 0.28435885,\n",
       "        0.28529138, 0.28554806, 0.28981134, 0.29019454, 0.29215691,\n",
       "        0.29317201, 0.2945305 , 0.29649919, 0.29695117, 0.29719745,\n",
       "        0.29857464, 0.29887364, 0.299472  , 0.30112555, 0.30150892,\n",
       "        0.30168177, 0.30181467, 0.30241665, 0.30243311, 0.30325708,\n",
       "        0.30634489, 0.30768648, 0.31431175, 0.3149546 , 0.31497914,\n",
       "        0.31780101, 0.31812844, 0.31883292, 0.31898971, 0.31955659,\n",
       "        0.32056789, 0.32138262, 0.32195544, 0.32352698, 0.32456464,\n",
       "        0.32498754, 0.32772415, 0.32787864, 0.32899217, 0.32969389,\n",
       "        0.33427574, 0.33456144, 0.34032464, 0.34109286, 0.34202413,\n",
       "        0.34348694, 0.3455043 , 0.34723362, 0.34723854, 0.34726138,\n",
       "        0.34757674, 0.34932681, 0.34959283, 0.35095074, 0.35284803,\n",
       "        0.35599469, 0.35875647, 0.35877558, 0.35924173, 0.36066916,\n",
       "        0.36102387, 0.36289139, 0.36294075, 0.36319544, 0.36497852,\n",
       "        0.3661241 , 0.36664734, 0.36667849, 0.37126003, 0.3723396 ,\n",
       "        0.37349325, 0.37358336, 0.37523997, 0.37546053, 0.37680827,\n",
       "        0.377435  , 0.37803152, 0.3796542 , 0.38016221, 0.38028166,\n",
       "        0.38095001, 0.38120024, 0.38149868, 0.38169286, 0.38252313,\n",
       "        0.38375029, 0.38521289, 0.38549313, 0.38549388, 0.39061525,\n",
       "        0.39159814, 0.39160491, 0.39237747, 0.39428405, 0.39472317,\n",
       "        0.39545604, 0.3990876 , 0.40270819, 0.40369962, 0.4038081 ,\n",
       "        0.40654496, 0.40656134, 0.4067091 , 0.40683799, 0.40693478,\n",
       "        0.40807915, 0.40918366, 0.41188451, 0.41438106, 0.41445024,\n",
       "        0.41875745, 0.42057159, 0.42124535, 0.42397249, 0.42407111,\n",
       "        0.4253306 , 0.42575476, 0.42636076, 0.43196338, 0.43242888,\n",
       "        0.43336785, 0.43346867, 0.43485397, 0.43613059, 0.43723653,\n",
       "        0.43795   , 0.43800897, 0.43865137, 0.44038895, 0.44077529,\n",
       "        0.44269388, 0.44411104, 0.44553867, 0.44623992, 0.44629946,\n",
       "        0.44751499, 0.45221223, 0.456237  , 0.45641638, 0.45928929,\n",
       "        0.45954475, 0.46128609, 0.46150025, 0.46280471, 0.46337224,\n",
       "        0.46483243, 0.46613529, 0.46661807, 0.46681505, 0.46856858,\n",
       "        0.46866157, 0.46903248, 0.46917003, 0.4692057 , 0.47043001,\n",
       "        0.47097823, 0.47195896, 0.47218925, 0.47235861, 0.47338967,\n",
       "        0.47346918, 0.47397591, 0.47425055, 0.47425961, 0.47472127,\n",
       "        0.47509033, 0.47611345, 0.47691384, 0.4773082 , 0.47807648,\n",
       "        0.47833988, 0.47952662, 0.48349545, 0.4841748 , 0.48570126,\n",
       "        0.48571387, 0.48620123, 0.48628737, 0.48845745, 0.4901223 ,\n",
       "        0.49058912, 0.49069455, 0.49206697, 0.49520588, 0.49643927,\n",
       "        0.50100284, 0.50483126, 0.50590775, 0.50693957, 0.50699979,\n",
       "        0.50882606, 0.50914293, 0.5094377 , 0.51040025, 0.51101606,\n",
       "        0.5120116 , 0.51289344, 0.51322502, 0.51396274, 0.51410774,\n",
       "        0.51453374, 0.51474201, 0.51948257, 0.52127546, 0.52141935,\n",
       "        0.52221013, 0.52380719, 0.52467102, 0.52695339, 0.52704229,\n",
       "        0.528262  , 0.53007077, 0.53014875, 0.53254384, 0.53461091,\n",
       "        0.53505369, 0.53508502, 0.53522269, 0.53706619, 0.53752046,\n",
       "        0.53836866, 0.54258521, 0.54357125, 0.5442067 , 0.54558865,\n",
       "        0.54559708, 0.54559921, 0.54589218, 0.548351  , 0.55050848,\n",
       "        0.55117592, 0.55197493, 0.55310896, 0.55343176, 0.55433026,\n",
       "        0.5554762 , 0.55551502, 0.55570393, 0.55739631, 0.55745704,\n",
       "        0.55757159, 0.558495  , 0.55863093, 0.55915163, 0.55951696,\n",
       "        0.56004767, 0.56128506, 0.56204811, 0.56225741, 0.56321362,\n",
       "        0.56359555, 0.56392136, 0.56442175, 0.56507475, 0.5655116 ,\n",
       "        0.56641839, 0.5666616 , 0.56729678, 0.56879113, 0.56907528,\n",
       "        0.56955097, 0.56955978, 0.57073813, 0.57093111, 0.57131404,\n",
       "        0.57285356, 0.57340983, 0.57598248, 0.5760352 , 0.57668715,\n",
       "        0.57819647, 0.58090381, 0.58280341, 0.58314906, 0.5856413 ,\n",
       "        0.58597913, 0.58613671, 0.58729336, 0.58974549, 0.59010377,\n",
       "        0.59283166, 0.59460827, 0.59470666, 0.59497638, 0.59623824,\n",
       "        0.59932918, 0.6000949 , 0.60143868, 0.60250379, 0.60276563,\n",
       "        0.60377521, 0.60381463, 0.60441084, 0.6044473 , 0.60453871,\n",
       "        0.60463785, 0.60540875, 0.60623998, 0.60640926, 0.6086767 ,\n",
       "        0.60878443, 0.60892187, 0.60932407, 0.61044997, 0.61171942,\n",
       "        0.61189843, 0.61556134, 0.61760172, 0.61799891, 0.6180233 ,\n",
       "        0.61872698, 0.62026388, 0.62070793, 0.62609165, 0.62625622,\n",
       "        0.62688258, 0.62735099, 0.62744613, 0.62784718, 0.62797762,\n",
       "        0.62846782, 0.62914337, 0.62945195, 0.62953581, 0.62970492,\n",
       "        0.63039089, 0.63104606, 0.63396779, 0.63515429, 0.63650334,\n",
       "        0.63675454, 0.63730412, 0.63743252, 0.63967951, 0.64033075,\n",
       "        0.64117832, 0.64141919, 0.64151045, 0.64306089, 0.64312205,\n",
       "        0.64330589, 0.6455875 , 0.64595004, 0.64676675, 0.64687465,\n",
       "        0.64750961, 0.64842693, 0.64889151, 0.64974597, 0.65073473,\n",
       "        0.65194981, 0.65205766, 0.65216327, 0.6521924 , 0.65237903,\n",
       "        0.65261104, 0.65274015, 0.65290763, 0.65298148, 0.65439904,\n",
       "        0.65462712, 0.65486135, 0.65539435, 0.65627087, 0.65627671,\n",
       "        0.65629786, 0.65642753, 0.65818196, 0.65869594, 0.65891216,\n",
       "        0.65909304, 0.66000084, 0.66064519, 0.66212289, 0.66220665,\n",
       "        0.66223194, 0.66382774, 0.66499511, 0.66548   , 0.66578781,\n",
       "        0.66578967, 0.66697137, 0.66703818, 0.66718387, 0.66819289,\n",
       "        0.66954921, 0.67008717, 0.67032208, 0.67033073, 0.67143976,\n",
       "        0.67365402, 0.67373714, 0.67374473, 0.67524951, 0.67636696,\n",
       "        0.67730155, 0.67795022, 0.68005435, 0.68445403, 0.68504775,\n",
       "        0.68699854, 0.68706767, 0.69020318, 0.69157171, 0.69202605,\n",
       "        0.69236893, 0.69332942, 0.69495226, 0.69808013, 0.69939985,\n",
       "        0.70015783, 0.70483339, 0.70508975, 0.70564033, 0.70570653,\n",
       "        0.70654001, 0.70811549, 0.70941643, 0.70988648, 0.71072608,\n",
       "        0.71182669, 0.71266274, 0.71310243, 0.71325924, 0.71522009,\n",
       "        0.71651718, 0.71750532, 0.7175742 , 0.71870815, 0.71991896,\n",
       "        0.72058624, 0.72134625, 0.72169232, 0.72548681, 0.7265687 ,\n",
       "        0.72865965, 0.72908983, 0.72986401, 0.73077015, 0.73406666,\n",
       "        0.73410701, 0.73433238, 0.73470553, 0.73498729, 0.73614991,\n",
       "        0.73705725, 0.73843025, 0.73891021, 0.73975439, 0.74067601,\n",
       "        0.74130096, 0.74218846, 0.74226093, 0.74336347, 0.74783886,\n",
       "        0.74893131, 0.74900005, 0.74955045, 0.7500993 , 0.75022098,\n",
       "        0.75425433, 0.75459322, 0.7561162 , 0.75896073, 0.75939323,\n",
       "        0.75955781, 0.76050998, 0.7608654 , 0.7615718 , 0.76350017,\n",
       "        0.76390093, 0.76558579, 0.76576347, 0.76587213, 0.76625305,\n",
       "        0.76726917, 0.76816967, 0.76828932, 0.7692203 , 0.76956597,\n",
       "        0.77037256, 0.77147085, 0.77182284, 0.77258832, 0.77306   ,\n",
       "        0.77329421, 0.77566887, 0.77853067, 0.78012063, 0.78047296,\n",
       "        0.78238833, 0.78258715, 0.78321922, 0.78426882, 0.78506387,\n",
       "        0.78584358, 0.78665641, 0.7883053 , 0.78889592, 0.78928365,\n",
       "        0.79099396, 0.79119409, 0.79137296, 0.79216969, 0.79267006,\n",
       "        0.79367337, 0.79627571, 0.79665387, 0.79702058, 0.79728287,\n",
       "        0.79956631, 0.80135559, 0.80176745, 0.80208531, 0.80339803,\n",
       "        0.80384194, 0.80410653, 0.80415296, 0.80543142, 0.8063746 ,\n",
       "        0.80668929, 0.807136  , 0.80815456, 0.80844134, 0.80852388,\n",
       "        0.80936884, 0.81036731, 0.81081675, 0.81475585, 0.81605297,\n",
       "        0.81638999, 0.81717506, 0.81797254, 0.81797424, 0.82398499,\n",
       "        0.82504709, 0.82729934, 0.82998542, 0.83010342, 0.83207072,\n",
       "        0.83368325, 0.8360644 , 0.83704757, 0.83870465, 0.83924146,\n",
       "        0.84246655, 0.84299798, 0.8434673 , 0.84360213, 0.84415876,\n",
       "        0.84589374, 0.84645546, 0.84733271, 0.84772904, 0.84778218,\n",
       "        0.84779015, 0.84793673, 0.84821571, 0.84925079, 0.85105101,\n",
       "        0.85369842, 0.85401985, 0.85499145, 0.85704662, 0.86170362,\n",
       "        0.86225665, 0.8629204 , 0.86332832, 0.863377  , 0.8644009 ,\n",
       "        0.86452539, 0.86595761, 0.8664072 , 0.86649055, 0.86682986,\n",
       "        0.86732334, 0.86996656, 0.87032959, 0.87115317, 0.8721368 ,\n",
       "        0.87578687, 0.87763758, 0.87776195, 0.87962489, 0.87994051,\n",
       "        0.88561276, 0.88652082, 0.88887374, 0.89139268, 0.89285327,\n",
       "        0.89320833, 0.89420466, 0.89597982, 0.89608133, 0.89663905,\n",
       "        0.89779931, 0.89826422, 0.89828796, 0.8989876 , 0.89913917,\n",
       "        0.90124852, 0.9050257 , 0.90572507, 0.90699347, 0.90821263,\n",
       "        0.90829294, 0.90912888, 0.909707  , 0.91141942, 0.91362465,\n",
       "        0.91468195, 0.91609014, 0.9163339 , 0.91666248, 0.91736637,\n",
       "        0.91849926, 0.91861497, 0.91883754, 0.91910563, 0.91925477,\n",
       "        0.92056295, 0.92104178, 0.92110164, 0.92185412, 0.92251858,\n",
       "        0.92279882, 0.92458856, 0.92571754, 0.92587085, 0.92599331,\n",
       "        0.92672143, 0.92952147, 0.92962768, 0.93006699, 0.93134146,\n",
       "        0.93345997, 0.93414818, 0.93495874, 0.935414  , 0.93570767,\n",
       "        0.93686082, 0.93927101, 0.93936697, 0.94085487, 0.94115627,\n",
       "        0.94285911, 0.94365482, 0.94544991, 0.94552859, 0.94554721,\n",
       "        0.94624981, 0.94718831, 0.94743151, 0.94784853, 0.9480401 ,\n",
       "        0.9482432 , 0.94919126, 0.94930377, 0.94980565, 0.95027184,\n",
       "        0.95140658, 0.95161109, 0.95399428, 0.95457008, 0.9571888 ,\n",
       "        0.95754598, 0.9579081 , 0.95879461, 0.95932704, 0.96044459,\n",
       "        0.96047219, 0.96077725, 0.96163052, 0.96295431, 0.96330459,\n",
       "        0.96356641, 0.96403795, 0.96414275, 0.9662145 , 0.96660812,\n",
       "        0.96721124, 0.96732775, 0.96852609, 0.96881751, 0.9703011 ,\n",
       "        0.97091641, 0.97139013, 0.97195367, 0.97205748, 0.97369361,\n",
       "        0.97467453, 0.97509767, 0.97694989, 0.97793805, 0.97794915,\n",
       "        0.97827612, 0.97990159, 0.97990883, 0.98180686, 0.98226842,\n",
       "        0.98385942, 0.9838673 , 0.98596751, 0.98646092, 0.98771485,\n",
       "        0.9885452 , 0.98867829, 0.98896114, 0.9891547 , 0.99180275,\n",
       "        0.9918464 , 0.99269226, 0.99458094, 0.99563051, 0.99603951,\n",
       "        0.99684323, 0.99741594, 0.99852056, 0.99852299, 0.99970054]),\n",
       " array([1, 1, 1, 1, 1, 1, 1, 1, 1, 1, 1, 1, 1, 1, 1, 1, 1, 1, 1, 1, 1, 1,\n",
       "        1, 1, 1, 1, 1, 1, 1, 1, 1, 1, 1, 1, 1, 1, 1, 1, 1, 1, 1, 1, 1, 1,\n",
       "        1, 1, 1, 1, 1, 1, 1, 1, 1, 1, 1, 1, 1, 1, 1, 1, 1, 1, 1, 1, 1, 1,\n",
       "        1, 1, 1, 1, 1, 1, 1, 1, 1, 1, 1, 1, 1, 1, 1, 1, 1, 1, 1, 1, 1, 1,\n",
       "        1, 1, 1, 1, 1, 1, 1, 1, 1, 1, 1, 1, 1, 1, 1, 1, 1, 1, 1, 1, 1, 1,\n",
       "        1, 1, 1, 1, 1, 1, 1, 1, 1, 1, 1, 1, 1, 1, 1, 1, 1, 1, 1, 1, 1, 1,\n",
       "        1, 1, 1, 1, 1, 1, 1, 1, 1, 1, 1, 1, 1, 1, 1, 1, 1, 1, 1, 1, 1, 1,\n",
       "        1, 1, 1, 1, 1, 1, 1, 1, 1, 1, 1, 1, 1, 1, 1, 1, 1, 1, 1, 1, 1, 1,\n",
       "        1, 1, 1, 1, 1, 1, 1, 1, 1, 1, 1, 1, 1, 1, 1, 1, 1, 1, 1, 1, 1, 1,\n",
       "        1, 1, 1, 1, 1, 1, 1, 1, 1, 1, 1, 1, 1, 1, 1, 1, 1, 1, 1, 1, 1, 1,\n",
       "        1, 1, 1, 1, 1, 1, 1, 1, 1, 1, 1, 1, 1, 1, 1, 1, 1, 1, 1, 1, 1, 1,\n",
       "        1, 1, 1, 1, 1, 1, 1, 1, 1, 1, 1, 1, 1, 1, 1, 1, 1, 1, 1, 1, 1, 1,\n",
       "        1, 1, 1, 1, 1, 1, 1, 1, 1, 1, 1, 1, 1, 1, 1, 1, 1, 1, 1, 1, 1, 1,\n",
       "        1, 1, 1, 1, 1, 1, 1, 1, 1, 1, 1, 1, 1, 1, 1, 1, 1, 1, 1, 1, 1, 1,\n",
       "        1, 1, 1, 1, 1, 1, 1, 1, 1, 1, 1, 1, 1, 1, 1, 1, 1, 1, 1, 1, 1, 1,\n",
       "        1, 1, 1, 1, 1, 1, 1, 1, 1, 1, 1, 1, 1, 1, 1, 1, 1, 1, 1, 1, 1, 1,\n",
       "        1, 1, 1, 1, 1, 1, 1, 1, 1, 1, 1, 1, 1, 1, 1, 1, 1, 1, 1, 1, 1, 1,\n",
       "        1, 1, 1, 1, 1, 1, 1, 1, 1, 1, 1, 1, 1, 1, 1, 1, 1, 1, 1, 1, 1, 1,\n",
       "        1, 1, 1, 1, 1, 1, 1, 1, 1, 1, 1, 1, 1, 1, 1, 1, 1, 1, 1, 1, 1, 1,\n",
       "        1, 1, 1, 1, 1, 1, 1, 1, 1, 1, 1, 1, 1, 1, 1, 1, 1, 1, 1, 1, 1, 1,\n",
       "        1, 1, 1, 1, 1, 1, 1, 1, 1, 1, 1, 1, 1, 1, 1, 1, 1, 1, 1, 1, 1, 1,\n",
       "        1, 1, 1, 1, 1, 1, 1, 1, 1, 1, 1, 1, 1, 1, 1, 1, 1, 1, 1, 1, 1, 1,\n",
       "        1, 1, 1, 1, 1, 1, 1, 1, 1, 1, 1, 1, 1, 1, 1, 1, 1, 1, 1, 1, 1, 1,\n",
       "        1, 1, 1, 1, 1, 1, 1, 1, 1, 1, 1, 1, 1, 1, 1, 1, 1, 1, 1, 1, 1, 1,\n",
       "        1, 1, 1, 1, 1, 1, 1, 1, 1, 1, 1, 1, 1, 1, 1, 1, 1, 1, 1, 1, 1, 1,\n",
       "        1, 1, 1, 1, 1, 1, 1, 1, 1, 1, 1, 1, 1, 1, 1, 1, 1, 1, 1, 1, 1, 1,\n",
       "        1, 1, 1, 1, 1, 1, 1, 1, 1, 1, 1, 1, 1, 1, 1, 1, 1, 1, 1, 1, 1, 1,\n",
       "        1, 1, 1, 1, 1, 1, 1, 1, 1, 1, 1, 1, 1, 1, 1, 1, 1, 1, 1, 1, 1, 1,\n",
       "        1, 1, 1, 1, 1, 1, 1, 1, 1, 1, 1, 1, 1, 1, 1, 1, 1, 1, 1, 1, 1, 1,\n",
       "        1, 1, 1, 1, 1, 1, 1, 1, 1, 1, 1, 1, 1, 1, 1, 1, 1, 1, 1, 1, 1, 1,\n",
       "        1, 1, 1, 1, 1, 1, 1, 1, 1, 1, 1, 1, 1, 1, 1, 1, 1, 1, 1, 1, 1, 1,\n",
       "        1, 1, 1, 1, 1, 1, 1, 1, 1, 1, 1, 1, 1, 1, 1, 1, 1, 1, 1, 1, 1, 1,\n",
       "        1, 1, 1, 1, 1, 1, 1, 1, 1, 1, 1, 1, 1, 1, 1, 1, 1, 1, 1, 1, 1, 1,\n",
       "        1, 1, 1, 1, 1, 1, 1, 1, 1, 1, 1, 1, 1, 1, 1, 1, 1, 1, 1, 1, 1, 1,\n",
       "        1, 1, 1, 1, 1, 1, 1, 1, 1, 1, 1, 1, 1, 1, 1, 1, 1, 1, 1, 1, 1, 1,\n",
       "        1, 1, 1, 1, 1, 1, 1, 1, 1, 1, 1, 1, 1, 1, 1, 1, 1, 1, 1, 1, 1, 1,\n",
       "        1, 1, 1, 1, 1, 1, 1, 1, 1, 1, 1, 1, 1, 1, 1, 1, 1, 1, 1, 1, 1, 1,\n",
       "        1, 1, 1, 1, 1, 1, 1, 1, 1, 1, 1, 1, 1, 1, 1, 1, 1, 1, 1, 1, 1, 1,\n",
       "        1, 1, 1, 1, 1, 1, 1, 1, 1, 1, 1, 1, 1, 1, 1, 1, 1, 1, 1, 1, 1, 1,\n",
       "        1, 1, 1, 1, 1, 1, 1, 1, 1, 1, 1, 1, 1, 1, 1, 1, 1, 1, 1, 1, 1, 1,\n",
       "        1, 1, 1, 1, 1, 1, 1, 1, 1, 1, 1, 1, 1, 1, 1, 1, 1, 1, 1, 1, 1, 1,\n",
       "        1, 1, 1, 1, 1, 1, 1, 1, 1, 1, 1, 1, 1, 1, 1, 1, 1, 1, 1, 1, 1, 1,\n",
       "        1, 1, 1, 1, 1, 1, 1, 1, 1, 1, 1, 1, 1, 1, 1, 1, 1, 1, 1, 1, 1, 1,\n",
       "        1, 1, 1, 1, 1, 1, 1, 1, 1, 1, 1, 1, 1, 1, 1, 1, 1, 1, 1, 1, 1, 1,\n",
       "        1, 1, 1, 1, 1, 1, 1, 1, 1, 1, 1, 1, 1, 1, 1, 1, 1, 1, 1, 1, 1, 1,\n",
       "        1, 1, 1, 1, 1, 1, 1, 1, 1, 1], dtype=int64))"
      ]
     },
     "execution_count": 51,
     "metadata": {},
     "output_type": "execute_result"
    }
   ],
   "source": [
    "rgen=uniform(0,1)\n",
    "np.unique(rgen.rvs(1000),return_counts=True)"
   ]
  },
  {
   "cell_type": "code",
   "execution_count": 56,
   "id": "48d71b28",
   "metadata": {},
   "outputs": [],
   "source": [
    "params = {\"min_impurity_decrease\": uniform(0.0001, 0.001),\n",
    "          \"max_depth\" : randint(20, 50),\n",
    "          \"min_samples_split\" : range(2, 25),\n",
    "          \"min_samples_leaf\" : range(1, 25),\n",
    "          }"
   ]
  },
  {
   "cell_type": "code",
   "execution_count": 57,
   "id": "1a2dee2b",
   "metadata": {},
   "outputs": [],
   "source": [
    "from sklearn.model_selection import RandomizedSearchCV"
   ]
  },
  {
   "cell_type": "code",
   "execution_count": 58,
   "id": "122e3d46",
   "metadata": {},
   "outputs": [
    {
     "data": {
      "text/html": [
       "<style>#sk-container-id-4 {color: black;background-color: white;}#sk-container-id-4 pre{padding: 0;}#sk-container-id-4 div.sk-toggleable {background-color: white;}#sk-container-id-4 label.sk-toggleable__label {cursor: pointer;display: block;width: 100%;margin-bottom: 0;padding: 0.3em;box-sizing: border-box;text-align: center;}#sk-container-id-4 label.sk-toggleable__label-arrow:before {content: \"▸\";float: left;margin-right: 0.25em;color: #696969;}#sk-container-id-4 label.sk-toggleable__label-arrow:hover:before {color: black;}#sk-container-id-4 div.sk-estimator:hover label.sk-toggleable__label-arrow:before {color: black;}#sk-container-id-4 div.sk-toggleable__content {max-height: 0;max-width: 0;overflow: hidden;text-align: left;background-color: #f0f8ff;}#sk-container-id-4 div.sk-toggleable__content pre {margin: 0.2em;color: black;border-radius: 0.25em;background-color: #f0f8ff;}#sk-container-id-4 input.sk-toggleable__control:checked~div.sk-toggleable__content {max-height: 200px;max-width: 100%;overflow: auto;}#sk-container-id-4 input.sk-toggleable__control:checked~label.sk-toggleable__label-arrow:before {content: \"▾\";}#sk-container-id-4 div.sk-estimator input.sk-toggleable__control:checked~label.sk-toggleable__label {background-color: #d4ebff;}#sk-container-id-4 div.sk-label input.sk-toggleable__control:checked~label.sk-toggleable__label {background-color: #d4ebff;}#sk-container-id-4 input.sk-hidden--visually {border: 0;clip: rect(1px 1px 1px 1px);clip: rect(1px, 1px, 1px, 1px);height: 1px;margin: -1px;overflow: hidden;padding: 0;position: absolute;width: 1px;}#sk-container-id-4 div.sk-estimator {font-family: monospace;background-color: #f0f8ff;border: 1px dotted black;border-radius: 0.25em;box-sizing: border-box;margin-bottom: 0.5em;}#sk-container-id-4 div.sk-estimator:hover {background-color: #d4ebff;}#sk-container-id-4 div.sk-parallel-item::after {content: \"\";width: 100%;border-bottom: 1px solid gray;flex-grow: 1;}#sk-container-id-4 div.sk-label:hover label.sk-toggleable__label {background-color: #d4ebff;}#sk-container-id-4 div.sk-serial::before {content: \"\";position: absolute;border-left: 1px solid gray;box-sizing: border-box;top: 0;bottom: 0;left: 50%;z-index: 0;}#sk-container-id-4 div.sk-serial {display: flex;flex-direction: column;align-items: center;background-color: white;padding-right: 0.2em;padding-left: 0.2em;position: relative;}#sk-container-id-4 div.sk-item {position: relative;z-index: 1;}#sk-container-id-4 div.sk-parallel {display: flex;align-items: stretch;justify-content: center;background-color: white;position: relative;}#sk-container-id-4 div.sk-item::before, #sk-container-id-4 div.sk-parallel-item::before {content: \"\";position: absolute;border-left: 1px solid gray;box-sizing: border-box;top: 0;bottom: 0;left: 50%;z-index: -1;}#sk-container-id-4 div.sk-parallel-item {display: flex;flex-direction: column;z-index: 1;position: relative;background-color: white;}#sk-container-id-4 div.sk-parallel-item:first-child::after {align-self: flex-end;width: 50%;}#sk-container-id-4 div.sk-parallel-item:last-child::after {align-self: flex-start;width: 50%;}#sk-container-id-4 div.sk-parallel-item:only-child::after {width: 0;}#sk-container-id-4 div.sk-dashed-wrapped {border: 1px dashed gray;margin: 0 0.4em 0.5em 0.4em;box-sizing: border-box;padding-bottom: 0.4em;background-color: white;}#sk-container-id-4 div.sk-label label {font-family: monospace;font-weight: bold;display: inline-block;line-height: 1.2em;}#sk-container-id-4 div.sk-label-container {text-align: center;}#sk-container-id-4 div.sk-container {/* jupyter's `normalize.less` sets `[hidden] { display: none; }` but bootstrap.min.css set `[hidden] { display: none !important; }` so we also need the `!important` here to be able to override the default hidden behavior on the sphinx rendered scikit-learn.org. See: https://github.com/scikit-learn/scikit-learn/issues/21755 */display: inline-block !important;position: relative;}#sk-container-id-4 div.sk-text-repr-fallback {display: none;}</style><div id=\"sk-container-id-4\" class=\"sk-top-container\"><div class=\"sk-text-repr-fallback\"><pre>RandomizedSearchCV(estimator=DecisionTreeClassifier(random_state=42),\n",
       "                   n_iter=100, n_jobs=1,\n",
       "                   param_distributions={&#x27;max_depth&#x27;: &lt;scipy.stats._distn_infrastructure.rv_discrete_frozen object at 0x000001484A76FAF0&gt;,\n",
       "                                        &#x27;min_impurity_decrease&#x27;: &lt;scipy.stats._distn_infrastructure.rv_continuous_frozen object at 0x000001484A75B340&gt;,\n",
       "                                        &#x27;min_samples_leaf&#x27;: range(1, 25),\n",
       "                                        &#x27;min_samples_split&#x27;: range(2, 25)},\n",
       "                   random_state=42)</pre><b>In a Jupyter environment, please rerun this cell to show the HTML representation or trust the notebook. <br />On GitHub, the HTML representation is unable to render, please try loading this page with nbviewer.org.</b></div><div class=\"sk-container\" hidden><div class=\"sk-item sk-dashed-wrapped\"><div class=\"sk-label-container\"><div class=\"sk-label sk-toggleable\"><input class=\"sk-toggleable__control sk-hidden--visually\" id=\"sk-estimator-id-10\" type=\"checkbox\" ><label for=\"sk-estimator-id-10\" class=\"sk-toggleable__label sk-toggleable__label-arrow\">RandomizedSearchCV</label><div class=\"sk-toggleable__content\"><pre>RandomizedSearchCV(estimator=DecisionTreeClassifier(random_state=42),\n",
       "                   n_iter=100, n_jobs=1,\n",
       "                   param_distributions={&#x27;max_depth&#x27;: &lt;scipy.stats._distn_infrastructure.rv_discrete_frozen object at 0x000001484A76FAF0&gt;,\n",
       "                                        &#x27;min_impurity_decrease&#x27;: &lt;scipy.stats._distn_infrastructure.rv_continuous_frozen object at 0x000001484A75B340&gt;,\n",
       "                                        &#x27;min_samples_leaf&#x27;: range(1, 25),\n",
       "                                        &#x27;min_samples_split&#x27;: range(2, 25)},\n",
       "                   random_state=42)</pre></div></div></div><div class=\"sk-parallel\"><div class=\"sk-parallel-item\"><div class=\"sk-item\"><div class=\"sk-label-container\"><div class=\"sk-label sk-toggleable\"><input class=\"sk-toggleable__control sk-hidden--visually\" id=\"sk-estimator-id-11\" type=\"checkbox\" ><label for=\"sk-estimator-id-11\" class=\"sk-toggleable__label sk-toggleable__label-arrow\">estimator: DecisionTreeClassifier</label><div class=\"sk-toggleable__content\"><pre>DecisionTreeClassifier(random_state=42)</pre></div></div></div><div class=\"sk-serial\"><div class=\"sk-item\"><div class=\"sk-estimator sk-toggleable\"><input class=\"sk-toggleable__control sk-hidden--visually\" id=\"sk-estimator-id-12\" type=\"checkbox\" ><label for=\"sk-estimator-id-12\" class=\"sk-toggleable__label sk-toggleable__label-arrow\">DecisionTreeClassifier</label><div class=\"sk-toggleable__content\"><pre>DecisionTreeClassifier(random_state=42)</pre></div></div></div></div></div></div></div></div></div></div>"
      ],
      "text/plain": [
       "RandomizedSearchCV(estimator=DecisionTreeClassifier(random_state=42),\n",
       "                   n_iter=100, n_jobs=1,\n",
       "                   param_distributions={'max_depth': <scipy.stats._distn_infrastructure.rv_discrete_frozen object at 0x000001484A76FAF0>,\n",
       "                                        'min_impurity_decrease': <scipy.stats._distn_infrastructure.rv_continuous_frozen object at 0x000001484A75B340>,\n",
       "                                        'min_samples_leaf': range(1, 25),\n",
       "                                        'min_samples_split': range(2, 25)},\n",
       "                   random_state=42)"
      ]
     },
     "execution_count": 58,
     "metadata": {},
     "output_type": "execute_result"
    }
   ],
   "source": [
    "gs=RandomizedSearchCV(DecisionTreeClassifier(random_state=42),params,n_iter=100,n_jobs=1,\n",
    "                      random_state=42)\n",
    "gs.fit(X_train,Y_train)"
   ]
  },
  {
   "cell_type": "code",
   "execution_count": null,
   "id": "c752c8f6",
   "metadata": {},
   "outputs": [],
   "source": []
  }
 ],
 "metadata": {
  "kernelspec": {
   "display_name": "Python 3 (ipykernel)",
   "language": "python",
   "name": "python3"
  },
  "language_info": {
   "codemirror_mode": {
    "name": "ipython",
    "version": 3
   },
   "file_extension": ".py",
   "mimetype": "text/x-python",
   "name": "python",
   "nbconvert_exporter": "python",
   "pygments_lexer": "ipython3",
   "version": "3.9.12"
  },
  "toc": {
   "base_numbering": 1,
   "nav_menu": {},
   "number_sections": false,
   "sideBar": true,
   "skip_h1_title": false,
   "title_cell": "Table of Contents",
   "title_sidebar": "Contents",
   "toc_cell": false,
   "toc_position": {
    "height": "calc(100% - 180px)",
    "left": "10px",
    "top": "150px",
    "width": "211.545px"
   },
   "toc_section_display": true,
   "toc_window_display": false
  },
  "varInspector": {
   "cols": {
    "lenName": 16,
    "lenType": 16,
    "lenVar": 40
   },
   "kernels_config": {
    "python": {
     "delete_cmd_postfix": "",
     "delete_cmd_prefix": "del ",
     "library": "var_list.py",
     "varRefreshCmd": "print(var_dic_list())"
    },
    "r": {
     "delete_cmd_postfix": ") ",
     "delete_cmd_prefix": "rm(",
     "library": "var_list.r",
     "varRefreshCmd": "cat(var_dic_list()) "
    }
   },
   "types_to_exclude": [
    "module",
    "function",
    "builtin_function_or_method",
    "instance",
    "_Feature"
   ],
   "window_display": false
  }
 },
 "nbformat": 4,
 "nbformat_minor": 5
}

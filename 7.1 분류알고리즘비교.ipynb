{
 "cells": [
  {
   "cell_type": "code",
   "execution_count": 1,
   "id": "188c51c3",
   "metadata": {},
   "outputs": [],
   "source": [
    "from sklearn.model_selection import train_test_split,cross_val_score,StratifiedKFold\n",
    "import matplotlib.pyplot as plt\n",
    "from sklearn.preprocessing import StandardScaler\n",
    "import pandas as pd\n"
   ]
  },
  {
   "cell_type": "code",
   "execution_count": 3,
   "id": "7086f901",
   "metadata": {},
   "outputs": [],
   "source": [
    "df=pd.read_csv(\"./pima-indians-diabetes3.csv\")"
   ]
  },
  {
   "cell_type": "code",
   "execution_count": 5,
   "id": "f1832763",
   "metadata": {},
   "outputs": [
    {
     "data": {
      "text/html": [
       "<div>\n",
       "<style scoped>\n",
       "    .dataframe tbody tr th:only-of-type {\n",
       "        vertical-align: middle;\n",
       "    }\n",
       "\n",
       "    .dataframe tbody tr th {\n",
       "        vertical-align: top;\n",
       "    }\n",
       "\n",
       "    .dataframe thead th {\n",
       "        text-align: right;\n",
       "    }\n",
       "</style>\n",
       "<table border=\"1\" class=\"dataframe\">\n",
       "  <thead>\n",
       "    <tr style=\"text-align: right;\">\n",
       "      <th></th>\n",
       "      <th>pregnant</th>\n",
       "      <th>plasma</th>\n",
       "      <th>pressure</th>\n",
       "      <th>thickness</th>\n",
       "      <th>insulin</th>\n",
       "      <th>bmi</th>\n",
       "      <th>pedigree</th>\n",
       "      <th>age</th>\n",
       "      <th>diabetes</th>\n",
       "    </tr>\n",
       "  </thead>\n",
       "  <tbody>\n",
       "    <tr>\n",
       "      <th>0</th>\n",
       "      <td>6</td>\n",
       "      <td>148</td>\n",
       "      <td>72</td>\n",
       "      <td>35</td>\n",
       "      <td>0</td>\n",
       "      <td>33.6</td>\n",
       "      <td>0.627</td>\n",
       "      <td>50</td>\n",
       "      <td>1</td>\n",
       "    </tr>\n",
       "    <tr>\n",
       "      <th>1</th>\n",
       "      <td>1</td>\n",
       "      <td>85</td>\n",
       "      <td>66</td>\n",
       "      <td>29</td>\n",
       "      <td>0</td>\n",
       "      <td>26.6</td>\n",
       "      <td>0.351</td>\n",
       "      <td>31</td>\n",
       "      <td>0</td>\n",
       "    </tr>\n",
       "    <tr>\n",
       "      <th>2</th>\n",
       "      <td>8</td>\n",
       "      <td>183</td>\n",
       "      <td>64</td>\n",
       "      <td>0</td>\n",
       "      <td>0</td>\n",
       "      <td>23.3</td>\n",
       "      <td>0.672</td>\n",
       "      <td>32</td>\n",
       "      <td>1</td>\n",
       "    </tr>\n",
       "    <tr>\n",
       "      <th>3</th>\n",
       "      <td>1</td>\n",
       "      <td>89</td>\n",
       "      <td>66</td>\n",
       "      <td>23</td>\n",
       "      <td>94</td>\n",
       "      <td>28.1</td>\n",
       "      <td>0.167</td>\n",
       "      <td>21</td>\n",
       "      <td>0</td>\n",
       "    </tr>\n",
       "    <tr>\n",
       "      <th>4</th>\n",
       "      <td>0</td>\n",
       "      <td>137</td>\n",
       "      <td>40</td>\n",
       "      <td>35</td>\n",
       "      <td>168</td>\n",
       "      <td>43.1</td>\n",
       "      <td>2.288</td>\n",
       "      <td>33</td>\n",
       "      <td>1</td>\n",
       "    </tr>\n",
       "    <tr>\n",
       "      <th>...</th>\n",
       "      <td>...</td>\n",
       "      <td>...</td>\n",
       "      <td>...</td>\n",
       "      <td>...</td>\n",
       "      <td>...</td>\n",
       "      <td>...</td>\n",
       "      <td>...</td>\n",
       "      <td>...</td>\n",
       "      <td>...</td>\n",
       "    </tr>\n",
       "    <tr>\n",
       "      <th>763</th>\n",
       "      <td>10</td>\n",
       "      <td>101</td>\n",
       "      <td>76</td>\n",
       "      <td>48</td>\n",
       "      <td>180</td>\n",
       "      <td>32.9</td>\n",
       "      <td>0.171</td>\n",
       "      <td>63</td>\n",
       "      <td>0</td>\n",
       "    </tr>\n",
       "    <tr>\n",
       "      <th>764</th>\n",
       "      <td>2</td>\n",
       "      <td>122</td>\n",
       "      <td>70</td>\n",
       "      <td>27</td>\n",
       "      <td>0</td>\n",
       "      <td>36.8</td>\n",
       "      <td>0.340</td>\n",
       "      <td>27</td>\n",
       "      <td>0</td>\n",
       "    </tr>\n",
       "    <tr>\n",
       "      <th>765</th>\n",
       "      <td>5</td>\n",
       "      <td>121</td>\n",
       "      <td>72</td>\n",
       "      <td>23</td>\n",
       "      <td>112</td>\n",
       "      <td>26.2</td>\n",
       "      <td>0.245</td>\n",
       "      <td>30</td>\n",
       "      <td>0</td>\n",
       "    </tr>\n",
       "    <tr>\n",
       "      <th>766</th>\n",
       "      <td>1</td>\n",
       "      <td>126</td>\n",
       "      <td>60</td>\n",
       "      <td>0</td>\n",
       "      <td>0</td>\n",
       "      <td>30.1</td>\n",
       "      <td>0.349</td>\n",
       "      <td>47</td>\n",
       "      <td>1</td>\n",
       "    </tr>\n",
       "    <tr>\n",
       "      <th>767</th>\n",
       "      <td>1</td>\n",
       "      <td>93</td>\n",
       "      <td>70</td>\n",
       "      <td>31</td>\n",
       "      <td>0</td>\n",
       "      <td>30.4</td>\n",
       "      <td>0.315</td>\n",
       "      <td>23</td>\n",
       "      <td>0</td>\n",
       "    </tr>\n",
       "  </tbody>\n",
       "</table>\n",
       "<p>768 rows × 9 columns</p>\n",
       "</div>"
      ],
      "text/plain": [
       "     pregnant  plasma  pressure  thickness  insulin   bmi  pedigree  age  \\\n",
       "0           6     148        72         35        0  33.6     0.627   50   \n",
       "1           1      85        66         29        0  26.6     0.351   31   \n",
       "2           8     183        64          0        0  23.3     0.672   32   \n",
       "3           1      89        66         23       94  28.1     0.167   21   \n",
       "4           0     137        40         35      168  43.1     2.288   33   \n",
       "..        ...     ...       ...        ...      ...   ...       ...  ...   \n",
       "763        10     101        76         48      180  32.9     0.171   63   \n",
       "764         2     122        70         27        0  36.8     0.340   27   \n",
       "765         5     121        72         23      112  26.2     0.245   30   \n",
       "766         1     126        60          0        0  30.1     0.349   47   \n",
       "767         1      93        70         31        0  30.4     0.315   23   \n",
       "\n",
       "     diabetes  \n",
       "0           1  \n",
       "1           0  \n",
       "2           1  \n",
       "3           0  \n",
       "4           1  \n",
       "..        ...  \n",
       "763         0  \n",
       "764         0  \n",
       "765         0  \n",
       "766         1  \n",
       "767         0  \n",
       "\n",
       "[768 rows x 9 columns]"
      ]
     },
     "execution_count": 5,
     "metadata": {},
     "output_type": "execute_result"
    }
   ],
   "source": [
    "df"
   ]
  },
  {
   "cell_type": "code",
   "execution_count": 8,
   "id": "79c89d0b",
   "metadata": {},
   "outputs": [],
   "source": [
    "X_data=df.drop([\"diabetes\"],axis=1)\n",
    "Y_data=df[\"diabetes\"]"
   ]
  },
  {
   "cell_type": "code",
   "execution_count": 9,
   "id": "83252cd8",
   "metadata": {},
   "outputs": [
    {
     "data": {
      "text/plain": [
       "pregnant     0\n",
       "plasma       0\n",
       "pressure     0\n",
       "thickness    0\n",
       "insulin      0\n",
       "bmi          0\n",
       "pedigree     0\n",
       "age          0\n",
       "dtype: int64"
      ]
     },
     "execution_count": 9,
     "metadata": {},
     "output_type": "execute_result"
    }
   ],
   "source": [
    "X_data.isnull().sum()"
   ]
  },
  {
   "cell_type": "code",
   "execution_count": 13,
   "id": "b9ffdf15",
   "metadata": {},
   "outputs": [],
   "source": [
    "scaler=StandardScaler()\n",
    "X_scaler=scaler.fit_transform(X_data)\n",
    "X_scaler=pd.DataFrame(X_scaler,columns=X_data.columns)"
   ]
  },
  {
   "cell_type": "code",
   "execution_count": 14,
   "id": "575b2cb6",
   "metadata": {},
   "outputs": [
    {
     "data": {
      "text/html": [
       "<div>\n",
       "<style scoped>\n",
       "    .dataframe tbody tr th:only-of-type {\n",
       "        vertical-align: middle;\n",
       "    }\n",
       "\n",
       "    .dataframe tbody tr th {\n",
       "        vertical-align: top;\n",
       "    }\n",
       "\n",
       "    .dataframe thead th {\n",
       "        text-align: right;\n",
       "    }\n",
       "</style>\n",
       "<table border=\"1\" class=\"dataframe\">\n",
       "  <thead>\n",
       "    <tr style=\"text-align: right;\">\n",
       "      <th></th>\n",
       "      <th>pregnant</th>\n",
       "      <th>plasma</th>\n",
       "      <th>pressure</th>\n",
       "      <th>thickness</th>\n",
       "      <th>insulin</th>\n",
       "      <th>bmi</th>\n",
       "      <th>pedigree</th>\n",
       "      <th>age</th>\n",
       "    </tr>\n",
       "  </thead>\n",
       "  <tbody>\n",
       "    <tr>\n",
       "      <th>0</th>\n",
       "      <td>0.639947</td>\n",
       "      <td>0.848324</td>\n",
       "      <td>0.149641</td>\n",
       "      <td>0.907270</td>\n",
       "      <td>-0.692891</td>\n",
       "      <td>0.204013</td>\n",
       "      <td>0.468492</td>\n",
       "      <td>1.425995</td>\n",
       "    </tr>\n",
       "    <tr>\n",
       "      <th>1</th>\n",
       "      <td>-0.844885</td>\n",
       "      <td>-1.123396</td>\n",
       "      <td>-0.160546</td>\n",
       "      <td>0.530902</td>\n",
       "      <td>-0.692891</td>\n",
       "      <td>-0.684422</td>\n",
       "      <td>-0.365061</td>\n",
       "      <td>-0.190672</td>\n",
       "    </tr>\n",
       "    <tr>\n",
       "      <th>2</th>\n",
       "      <td>1.233880</td>\n",
       "      <td>1.943724</td>\n",
       "      <td>-0.263941</td>\n",
       "      <td>-1.288212</td>\n",
       "      <td>-0.692891</td>\n",
       "      <td>-1.103255</td>\n",
       "      <td>0.604397</td>\n",
       "      <td>-0.105584</td>\n",
       "    </tr>\n",
       "    <tr>\n",
       "      <th>3</th>\n",
       "      <td>-0.844885</td>\n",
       "      <td>-0.998208</td>\n",
       "      <td>-0.160546</td>\n",
       "      <td>0.154533</td>\n",
       "      <td>0.123302</td>\n",
       "      <td>-0.494043</td>\n",
       "      <td>-0.920763</td>\n",
       "      <td>-1.041549</td>\n",
       "    </tr>\n",
       "    <tr>\n",
       "      <th>4</th>\n",
       "      <td>-1.141852</td>\n",
       "      <td>0.504055</td>\n",
       "      <td>-1.504687</td>\n",
       "      <td>0.907270</td>\n",
       "      <td>0.765836</td>\n",
       "      <td>1.409746</td>\n",
       "      <td>5.484909</td>\n",
       "      <td>-0.020496</td>\n",
       "    </tr>\n",
       "    <tr>\n",
       "      <th>...</th>\n",
       "      <td>...</td>\n",
       "      <td>...</td>\n",
       "      <td>...</td>\n",
       "      <td>...</td>\n",
       "      <td>...</td>\n",
       "      <td>...</td>\n",
       "      <td>...</td>\n",
       "      <td>...</td>\n",
       "    </tr>\n",
       "    <tr>\n",
       "      <th>763</th>\n",
       "      <td>1.827813</td>\n",
       "      <td>-0.622642</td>\n",
       "      <td>0.356432</td>\n",
       "      <td>1.722735</td>\n",
       "      <td>0.870031</td>\n",
       "      <td>0.115169</td>\n",
       "      <td>-0.908682</td>\n",
       "      <td>2.532136</td>\n",
       "    </tr>\n",
       "    <tr>\n",
       "      <th>764</th>\n",
       "      <td>-0.547919</td>\n",
       "      <td>0.034598</td>\n",
       "      <td>0.046245</td>\n",
       "      <td>0.405445</td>\n",
       "      <td>-0.692891</td>\n",
       "      <td>0.610154</td>\n",
       "      <td>-0.398282</td>\n",
       "      <td>-0.531023</td>\n",
       "    </tr>\n",
       "    <tr>\n",
       "      <th>765</th>\n",
       "      <td>0.342981</td>\n",
       "      <td>0.003301</td>\n",
       "      <td>0.149641</td>\n",
       "      <td>0.154533</td>\n",
       "      <td>0.279594</td>\n",
       "      <td>-0.735190</td>\n",
       "      <td>-0.685193</td>\n",
       "      <td>-0.275760</td>\n",
       "    </tr>\n",
       "    <tr>\n",
       "      <th>766</th>\n",
       "      <td>-0.844885</td>\n",
       "      <td>0.159787</td>\n",
       "      <td>-0.470732</td>\n",
       "      <td>-1.288212</td>\n",
       "      <td>-0.692891</td>\n",
       "      <td>-0.240205</td>\n",
       "      <td>-0.371101</td>\n",
       "      <td>1.170732</td>\n",
       "    </tr>\n",
       "    <tr>\n",
       "      <th>767</th>\n",
       "      <td>-0.844885</td>\n",
       "      <td>-0.873019</td>\n",
       "      <td>0.046245</td>\n",
       "      <td>0.656358</td>\n",
       "      <td>-0.692891</td>\n",
       "      <td>-0.202129</td>\n",
       "      <td>-0.473785</td>\n",
       "      <td>-0.871374</td>\n",
       "    </tr>\n",
       "  </tbody>\n",
       "</table>\n",
       "<p>768 rows × 8 columns</p>\n",
       "</div>"
      ],
      "text/plain": [
       "     pregnant    plasma  pressure  thickness   insulin       bmi  pedigree  \\\n",
       "0    0.639947  0.848324  0.149641   0.907270 -0.692891  0.204013  0.468492   \n",
       "1   -0.844885 -1.123396 -0.160546   0.530902 -0.692891 -0.684422 -0.365061   \n",
       "2    1.233880  1.943724 -0.263941  -1.288212 -0.692891 -1.103255  0.604397   \n",
       "3   -0.844885 -0.998208 -0.160546   0.154533  0.123302 -0.494043 -0.920763   \n",
       "4   -1.141852  0.504055 -1.504687   0.907270  0.765836  1.409746  5.484909   \n",
       "..        ...       ...       ...        ...       ...       ...       ...   \n",
       "763  1.827813 -0.622642  0.356432   1.722735  0.870031  0.115169 -0.908682   \n",
       "764 -0.547919  0.034598  0.046245   0.405445 -0.692891  0.610154 -0.398282   \n",
       "765  0.342981  0.003301  0.149641   0.154533  0.279594 -0.735190 -0.685193   \n",
       "766 -0.844885  0.159787 -0.470732  -1.288212 -0.692891 -0.240205 -0.371101   \n",
       "767 -0.844885 -0.873019  0.046245   0.656358 -0.692891 -0.202129 -0.473785   \n",
       "\n",
       "          age  \n",
       "0    1.425995  \n",
       "1   -0.190672  \n",
       "2   -0.105584  \n",
       "3   -1.041549  \n",
       "4   -0.020496  \n",
       "..        ...  \n",
       "763  2.532136  \n",
       "764 -0.531023  \n",
       "765 -0.275760  \n",
       "766  1.170732  \n",
       "767 -0.871374  \n",
       "\n",
       "[768 rows x 8 columns]"
      ]
     },
     "execution_count": 14,
     "metadata": {},
     "output_type": "execute_result"
    }
   ],
   "source": [
    "X_scaler"
   ]
  },
  {
   "cell_type": "code",
   "execution_count": 17,
   "id": "9fe90393",
   "metadata": {},
   "outputs": [
    {
     "data": {
      "text/plain": [
       "<AxesSubplot:title={'center':'StandrdScaler'}, ylabel='Density'>"
      ]
     },
     "execution_count": 17,
     "metadata": {},
     "output_type": "execute_result"
    },
    {
     "data": {
      "image/png": "[encoded data removed]",
      "text/plain": [
       "<Figure size 864x288 with 2 Axes>"
      ]
     },
     "metadata": {
      "needs_background": "light"
     },
     "output_type": "display_data"
    }
   ],
   "source": [
    "fig,ax= plt.subplots(1,2,figsize=(12,4))\n",
    "X_data.plot(kind=\"kde\",title=\"RewData\",ax=ax[0])\n",
    "X_scaler.plot(kind=\"kde\",title=\"StandrdScaler\",ax=ax[1])"
   ]
  },
  {
   "cell_type": "code",
   "execution_count": 19,
   "id": "749bf85b",
   "metadata": {},
   "outputs": [],
   "source": [
    "X_train,X_test,Y_trian,Y_test=train_test_split(X_scaler,Y_data,random_state=42)"
   ]
  },
  {
   "cell_type": "code",
   "execution_count": 20,
   "id": "138964ca",
   "metadata": {},
   "outputs": [
    {
     "name": "stdout",
     "output_type": "stream",
     "text": [
      "(576, 8)\n",
      "(192, 8)\n"
     ]
    }
   ],
   "source": [
    "print(X_train.shape)\n",
    "print(X_test.shape)"
   ]
  },
  {
   "cell_type": "markdown",
   "id": "2e72bcd2",
   "metadata": {},
   "source": [
    "# Decsison Tree"
   ]
  },
  {
   "cell_type": "code",
   "execution_count": 21,
   "id": "a5f04297",
   "metadata": {},
   "outputs": [],
   "source": [
    "from sklearn.tree import DecisionTreeClassifier\n",
    "dt=DecisionTreeClassifier()\n",
    "dt.fit(X_train,Y_trian)\n",
    "Y_pred=dt.predict(X_test)"
   ]
  },
  {
   "cell_type": "code",
   "execution_count": 28,
   "id": "1c9d6a62",
   "metadata": {},
   "outputs": [],
   "source": [
    "skf=StratifiedKFold(n_splits=10,shuffle=True)\n",
    "accuracies=cross_val_score(dt,X_train,Y_trian,cv=skf)"
   ]
  },
  {
   "cell_type": "code",
   "execution_count": 44,
   "id": "5690f829",
   "metadata": {},
   "outputs": [
    {
     "name": "stdout",
     "output_type": "stream",
     "text": [
      "Accuracy : 71.50 %\n",
      "Standard Deviation : 6.95 %\n"
     ]
    }
   ],
   "source": [
    "print(\"Accuracy : {:.2f} %\".format(accuracies.mean()*100))\n",
    "print(\"Standard Deviation : {:.2f} %\".format(accuracies.std()*100))"
   ]
  },
  {
   "cell_type": "markdown",
   "id": "f93ed698",
   "metadata": {},
   "source": [
    "# Ramdom Forest"
   ]
  },
  {
   "cell_type": "code",
   "execution_count": 58,
   "id": "e624bf53",
   "metadata": {},
   "outputs": [],
   "source": [
    "from sklearn.ensemble  import RandomForestClassifier\n",
    "rt=RandomForestClassifier()\n",
    "rt.fit(X_train,Y_trian)\n",
    "Y_pred=dt.predict(X_test)"
   ]
  },
  {
   "cell_type": "code",
   "execution_count": 66,
   "id": "7d7c049a",
   "metadata": {},
   "outputs": [],
   "source": [
    "skf=StratifiedKFold(n_splits=10,shuffle=True)\n",
    "accuracies=cross_val_score(rt,X_train,Y_trian,cv=skf)"
   ]
  },
  {
   "cell_type": "code",
   "execution_count": 43,
   "id": "a6ffa71c",
   "metadata": {},
   "outputs": [
    {
     "name": "stdout",
     "output_type": "stream",
     "text": [
      "Accuracy : 71.50 %\n",
      "Standard Deviation : 6.95 %\n"
     ]
    }
   ],
   "source": [
    "print(\"Accuracy : {:.2f} %\".format(accuracies.mean()*100))\n",
    "print(\"Standard Deviation : {:.2f} %\".format(accuracies.std()*100))"
   ]
  },
  {
   "cell_type": "markdown",
   "id": "a69d69e1",
   "metadata": {},
   "source": [
    "# 가우시안 나이브베이즈"
   ]
  },
  {
   "cell_type": "code",
   "execution_count": 36,
   "id": "4e144a4b",
   "metadata": {},
   "outputs": [],
   "source": [
    "from sklearn.naive_bayes  import GaussianNB\n",
    "gn=RandomForestRegressor()\n",
    "gn.fit(X_train,Y_trian)\n",
    "Y_pred=dt.predict(X_test)"
   ]
  },
  {
   "cell_type": "code",
   "execution_count": 65,
   "id": "39c8b8d9",
   "metadata": {},
   "outputs": [],
   "source": [
    "skf=StratifiedKFold(n_splits=10,shuffle=True)\n",
    "accuracies=cross_val_score(gn,X_train,Y_trian,cv=skf)"
   ]
  },
  {
   "cell_type": "code",
   "execution_count": 42,
   "id": "24591237",
   "metadata": {},
   "outputs": [
    {
     "name": "stdout",
     "output_type": "stream",
     "text": [
      "Accuracy : 71.50 %\n",
      "Standard Deviation : 6.95 %\n"
     ]
    }
   ],
   "source": [
    "print(\"Accuracy : {:.2f} %\".format(accuracies.mean()*100))\n",
    "print(\"Standard Deviation : {:.2f} %\".format(accuracies.std()*100))"
   ]
  },
  {
   "cell_type": "markdown",
   "id": "ef19719d",
   "metadata": {},
   "source": [
    "# K-NN"
   ]
  },
  {
   "cell_type": "code",
   "execution_count": 64,
   "id": "da0867c4",
   "metadata": {},
   "outputs": [
    {
     "name": "stdout",
     "output_type": "stream",
     "text": [
      "Accuracy : 70.85 %\n",
      "Standard Deviation : 7.80 %\n"
     ]
    }
   ],
   "source": [
    "from sklearn.neighbors  import KNeighborsClassifier\n",
    "kn=RandomForestRegressor()\n",
    "kn.fit(X_train,Y_trian)\n",
    "Y_pred=kn.predict(X_test)\n",
    "skf=StratifiedKFold(n_splits=10,shuffle=True)\n",
    "accuracies=cross_val_score(dt,X_train,Y_trian,cv=skf)\n",
    "print(\"Accuracy : {:.2f} %\".format(accuracies.mean()*100))\n",
    "print(\"Standard Deviation : {:.2f} %\".format(accuracies.std()*100))"
   ]
  },
  {
   "cell_type": "markdown",
   "id": "1af58480",
   "metadata": {},
   "source": [
    "# AdaBoost"
   ]
  },
  {
   "cell_type": "code",
   "execution_count": 63,
   "id": "cfbf28e6",
   "metadata": {},
   "outputs": [
    {
     "name": "stdout",
     "output_type": "stream",
     "text": [
      "Accuracy : 76.73 %\n",
      "Standard Deviation : 4.45 %\n"
     ]
    }
   ],
   "source": [
    "from sklearn.ensemble  import AdaBoostClassifier\n",
    "ab=AdaBoostClassifier()\n",
    "ab.fit(X_train,Y_trian)\n",
    "Y_pred=ab.predict(X_test)\n",
    "Y_pred=ab.predict(X_test)\n",
    "skf=StratifiedKFold(n_splits=10,shuffle=True)\n",
    "accuracies=cross_val_score(ab,X_train,Y_trian,cv=skf)\n",
    "print(\"Accuracy : {:.2f} %\".format(accuracies.mean()*100))\n",
    "print(\"Standard Deviation : {:.2f} %\".format(accuracies.std()*100))"
   ]
  },
  {
   "cell_type": "markdown",
   "id": "c45fc55d",
   "metadata": {},
   "source": [
    "# 이차판별 분석"
   ]
  },
  {
   "cell_type": "code",
   "execution_count": 62,
   "id": "ccea77c1",
   "metadata": {},
   "outputs": [
    {
     "name": "stdout",
     "output_type": "stream",
     "text": [
      "Accuracy : 74.14 %\n",
      "Standard Deviation : 5.60 %\n"
     ]
    }
   ],
   "source": [
    "from sklearn.discriminant_analysis  import QuadraticDiscriminantAnalysis\n",
    "qd=QuadraticDiscriminantAnalysis()\n",
    "qd.fit(X_train,Y_trian)\n",
    "Y_pred=qd.predict(X_test)\n",
    "Y_pred=qd.predict(X_test)\n",
    "skf=StratifiedKFold(n_splits=10,shuffle=True)\n",
    "accuracies=cross_val_score(qd,X_train,Y_trian,cv=skf)\n",
    "print(\"Accuracy : {:.2f} %\".format(accuracies.mean()*100))\n",
    "print(\"Standard Deviation : {:.2f} %\".format(accuracies.std()*100))"
   ]
  },
  {
   "cell_type": "markdown",
   "id": "d40fb8fe",
   "metadata": {},
   "source": [
    "# SVM"
   ]
  },
  {
   "cell_type": "code",
   "execution_count": 61,
   "id": "1454fc2e",
   "metadata": {},
   "outputs": [
    {
     "name": "stdout",
     "output_type": "stream",
     "text": [
      "Accuracy : 75.53 %\n",
      "Standard Deviation : 5.20 %\n"
     ]
    }
   ],
   "source": [
    "from sklearn.svm  import SVC\n",
    "sv=SVC()\n",
    "sv.fit(X_train,Y_trian)\n",
    "Y_pred=sv.predict(X_test)\n",
    "Y_pred=sv.predict(X_test)\n",
    "skf=StratifiedKFold(n_splits=10,shuffle=True)\n",
    "accuracies=cross_val_score(sv,X_train,Y_trian,cv=skf)\n",
    "print(\"Accuracy : {:.2f} %\".format(accuracies.mean()*100))\n",
    "print(\"Standard Deviation : {:.2f} %\".format(accuracies.std()*100))"
   ]
  },
  {
   "cell_type": "markdown",
   "id": "1b4d87e7",
   "metadata": {},
   "source": [
    "# SVM-RBF"
   ]
  },
  {
   "cell_type": "code",
   "execution_count": 60,
   "id": "6397f1e9",
   "metadata": {},
   "outputs": [
    {
     "name": "stdout",
     "output_type": "stream",
     "text": [
      "Accuracy : 75.52 %\n",
      "Standard Deviation : 5.39 %\n"
     ]
    }
   ],
   "source": [
    "from sklearn.svm  import SVC\n",
    "sr=SVC(kernel='rbf')\n",
    "sr.fit(X_train,Y_trian)\n",
    "Y_pred=sr.predict(X_test)\n",
    "Y_pred=sr.predict(X_test)\n",
    "skf=StratifiedKFold(n_splits=10,shuffle=True)\n",
    "accuracies=cross_val_score(sr,X_train,Y_trian,cv=skf)\n",
    "print(\"Accuracy : {:.2f} %\".format(accuracies.mean()*100))\n",
    "print(\"Standard Deviation : {:.2f} %\".format(accuracies.std()*100)) #표준편차"
   ]
  },
  {
   "cell_type": "markdown",
   "id": "39c49cfc",
   "metadata": {},
   "source": [
    "# voting"
   ]
  },
  {
   "cell_type": "code",
   "execution_count": 67,
   "id": "de3cfb5c",
   "metadata": {},
   "outputs": [
    {
     "name": "stdout",
     "output_type": "stream",
     "text": [
      "Accuracy : 77.45 %\n",
      "Standard Deviation : 5.34 %\n"
     ]
    }
   ],
   "source": [
    "from sklearn.ensemble  import VotingClassifier\n",
    "clf1=AdaBoostClassifier()\n",
    "clf2=RandomForestClassifier()\n",
    "clf3=sr=SVC(kernel='linear')\n",
    "vc=VotingClassifier(estimators=[(\"ad\",clf1),(\"rf\",clf2),(\"cvc\",clf3)])\n",
    "vc.fit(X_train,Y_trian)\n",
    "Y_pred=vc.predict(X_test)\n",
    "Y_pred=vc.predict(X_test)\n",
    "skf=StratifiedKFold(n_splits=10,shuffle=True)\n",
    "accuracies=cross_val_score(vc,X_train,Y_trian,cv=skf)\n",
    "print(\"Accuracy : {:.2f} %\".format(accuracies.mean()*100))\n",
    "print(\"Standard Deviation : {:.2f} %\".format(accuracies.std()*100))"
   ]
  },
  {
   "cell_type": "markdown",
   "id": "9bd1175e",
   "metadata": {},
   "source": [
    "# Baggin "
   ]
  },
  {
   "cell_type": "code",
   "execution_count": 68,
   "id": "aa572229",
   "metadata": {},
   "outputs": [
    {
     "name": "stdout",
     "output_type": "stream",
     "text": [
      "Accuracy : 77.76 %\n",
      "Standard Deviation : 5.31 %\n"
     ]
    }
   ],
   "source": [
    "from sklearn.ensemble  import BaggingClassifier\n",
    "bc=BaggingClassifier(base_estimator=SVC(kernel='rbf'),n_estimators=10)\n",
    "bc.fit(X_train,Y_trian)\n",
    "Y_pred=bc.predict(X_test)\n",
    "Y_pred=bc.predict(X_test)\n",
    "skf=StratifiedKFold(n_splits=10,shuffle=True)\n",
    "accuracies=cross_val_score(sr,X_train,Y_trian,cv=skf)\n",
    "print(\"Accuracy : {:.2f} %\".format(accuracies.mean()*100))\n",
    "print(\"Standard Deviation : {:.2f} %\".format(accuracies.std()*100)) #표준편차"
   ]
  },
  {
   "cell_type": "markdown",
   "id": "ca107149",
   "metadata": {},
   "source": [
    "# 여러 알고리즘 성능을 한눈에  비교하기"
   ]
  },
  {
   "cell_type": "code",
   "execution_count": 71,
   "id": "fe87f9b2",
   "metadata": {},
   "outputs": [],
   "source": [
    "classifiers = [DecisionTreeClassifier(),\n",
    "               RandomForestClassifier(),\n",
    "               GaussianNB(),\n",
    "               KNeighborsClassifier(),\n",
    "               SVC(kernel = 'linear'),\n",
    "               SVC(kernel = 'rbf'),\n",
    "               AdaBoostClassifier(),\n",
    "               QuadraticDiscriminantAnalysis(),\n",
    "               VotingClassifier(estimators=[('1', AdaBoostClassifier()),\n",
    "                                            ('2', RandomForestClassifier()),\n",
    "                                            ('3', SVC(kernel = 'linear'))]),\n",
    "               BaggingClassifier(base_estimator=clf3, n_estimators=10, random_state=0)\n",
    "              ]\n",
    "classifier_names = ['D_tree',\n",
    "                    'RF',\n",
    "                    'GNB',\n",
    "                    'KNN',\n",
    "                    'Ada',\n",
    "                    'QDA',\n",
    "                    'SVM_l',\n",
    "                    'SVM_k',\n",
    "                    'Voting',\n",
    "                    'Bagging'\n",
    "                   ]\n",
    "# 결과가 저장될 리스트를 만듭니다.\n",
    "modelaccuracies = []\n",
    "modelmeans = []\n",
    "modelnames = []"
   ]
  },
  {
   "cell_type": "code",
   "execution_count": 74,
   "id": "f2224974",
   "metadata": {},
   "outputs": [
    {
     "name": "stdout",
     "output_type": "stream",
     "text": [
      "Mean accuracy of D_tree : 69.46 %\n",
      "Mean accuracy of RF : 76.73 %\n",
      "Mean accuracy of GNB : 75.35 %\n",
      "Mean accuracy of KNN : 75.01 %\n",
      "Mean accuracy of Ada : 77.57 %\n",
      "Mean accuracy of QDA : 76.21 %\n",
      "Mean accuracy of SVM_l : 73.27 %\n",
      "Mean accuracy of SVM_k : 75.34 %\n",
      "Mean accuracy of Voting : 76.73 %\n",
      "Mean accuracy of Bagging : 77.24 %\n"
     ]
    },
    {
     "data": {
      "image/png": "[encoded data removed]",
      "text/plain": [
       "<Figure size 720x360 with 1 Axes>"
      ]
     },
     "metadata": {
      "needs_background": "light"
     },
     "output_type": "display_data"
    },
    {
     "data": {
      "image/png": "[encoded data removed]",
      "text/plain": [
       "<Figure size 720x360 with 1 Axes>"
      ]
     },
     "metadata": {
      "needs_background": "light"
     },
     "output_type": "display_data"
    }
   ],
   "source": [
    "# 각 분류기를 실행하여 결과를 저장합니다.\n",
    "classifier_data=zip(classifier_names, classifiers)\n",
    "for classifier_name, classifier in classifier_data:\n",
    "    # 계층별 교차 검증 환경을 설정합니다.\n",
    "    skf=StratifiedKFold(n_splits=10, shuffle=True)\n",
    "    # 교차 검증을 통해 정확도를 계산합니다.\n",
    "    accuracies=cross_val_score(classifier, X = X_train, y = Y_trian, cv = skf)\n",
    "    # 정확도의 평균값을 출력합니다.\n",
    "    print(\"Mean accuracy of\", classifier_name, \": {:.2f} %\".format(accuracies.mean()*100))\n",
    "    # 결과를 저장합니다.\n",
    "    modelaccuracies.append(accuracies)\n",
    "    modelnames.append(classifier_name)\n",
    "    modelmeans.append(accuracies.mean()*100)\n",
    "# 각 분류기별 정확도의 평균값을 막대 그래프로 출력합니다.\n",
    "plt.figure(figsize=(10,5))\n",
    "plt.ylim([60, 80])\n",
    "plt.bar(modelnames, modelmeans);\n",
    "# 각 분류기별 결과를 Box 그래프로 출력합니다.\n",
    "fig = plt.figure(figsize=(10,5))\n",
    "ax = fig.add_subplot(111)\n",
    "ax.boxplot(modelaccuracies)\n",
    "ax.set_xticklabels(modelnames)\n",
    "plt.show()"
   ]
  },
  {
   "cell_type": "code",
   "execution_count": null,
   "id": "c73c3702",
   "metadata": {},
   "outputs": [],
   "source": [
    "number=int(input(\"정수입력\"))\n",
    "if number%2==0:\n",
    "    print(\"짝수입니다.\")\n",
    "if number%2==1:\n",
    "        print(\"홀수입니다\")"
   ]
  },
  {
   "cell_type": "code",
   "execution_count": null,
   "id": "87ffef8f",
   "metadata": {},
   "outputs": [],
   "source": [
    "import ma"
   ]
  },
  {
   "cell_type": "code",
   "execution_count": null,
   "id": "761b2525",
   "metadata": {},
   "outputs": [],
   "source": []
  }
 ],
 "metadata": {
  "kernelspec": {
   "display_name": "Python 3 (ipykernel)",
   "language": "python",
   "name": "python3"
  },
  "language_info": {
   "codemirror_mode": {
    "name": "ipython",
    "version": 3
   },
   "file_extension": ".py",
   "mimetype": "text/x-python",
   "name": "python",
   "nbconvert_exporter": "python",
   "pygments_lexer": "ipython3",
   "version": "3.9.12"
  },
  "toc": {
   "base_numbering": 1,
   "nav_menu": {},
   "number_sections": false,
   "sideBar": true,
   "skip_h1_title": false,
   "title_cell": "Table of Contents",
   "title_sidebar": "Contents",
   "toc_cell": false,
   "toc_position": {},
   "toc_section_display": true,
   "toc_window_display": false
  },
  "varInspector": {
   "cols": {
    "lenName": 16,
    "lenType": 16,
    "lenVar": 40
   },
   "kernels_config": {
    "python": {
     "delete_cmd_postfix": "",
     "delete_cmd_prefix": "del ",
     "library": "var_list.py",
     "varRefreshCmd": "print(var_dic_list())"
    },
    "r": {
     "delete_cmd_postfix": ") ",
     "delete_cmd_prefix": "rm(",
     "library": "var_list.r",
     "varRefreshCmd": "cat(var_dic_list()) "
    }
   },
   "types_to_exclude": [
    "module",
    "function",
    "builtin_function_or_method",
    "instance",
    "_Feature"
   ],
   "window_display": false
  }
 },
 "nbformat": 4,
 "nbformat_minor": 5
}
